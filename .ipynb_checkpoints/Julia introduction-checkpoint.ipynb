{
 "cells": [
  {
   "cell_type": "markdown",
   "id": "ff65b3c9",
   "metadata": {},
   "source": [
    "- reference : \n",
    "    - [Youtube : Julia Tutorial 2022 Korea 줄리아 언어 소개](https://www.youtube.com/watch?v=wjLXmz4D9VQ&t=2131s)\n",
    "    - [Julia Tutorial 2022 Korea 줄리아 언어 소개 - 마크다운 문서](https://github.com/chkwon/JuliaTutorial2022Korea)"
   ]
  },
  {
   "cell_type": "markdown",
   "id": "56f161a2-4a7b-4dc9-bac1-04790a8a6c1a",
   "metadata": {},
   "source": [
    "# 기본 연산 & 자료형\n",
    "    - `String` \n",
    "    - `Char` \n",
    "    - `Int` \n",
    "    - `Float64`\n",
    "    - `Bool` \n",
    "    - `Vector`\n",
    "    - `Matrix`"
   ]
  },
  {
   "cell_type": "code",
   "execution_count": 21,
   "id": "0f02ce7d-fecc-4143-8fb8-b51b2cf4ab44",
   "metadata": {},
   "outputs": [
    {
     "data": {
      "text/plain": [
       "2"
      ]
     },
     "execution_count": 21,
     "metadata": {},
     "output_type": "execute_result"
    }
   ],
   "source": [
    "1+1"
   ]
  },
  {
   "cell_type": "markdown",
   "id": "97a1d7ae-c43a-41f8-823b-f5980b3ffc79",
   "metadata": {},
   "source": [
    "## 문자열\n",
    "\n",
    "- 문자열은 `\"\"`를 사용한다. String\n",
    "- `''`는 `Character`라는 별도의 자료형으로 표현된다.\n",
    "- 포매팅 사용가능"
   ]
  },
  {
   "cell_type": "code",
   "execution_count": 2,
   "id": "eb7ba578-6a99-461f-addc-085b6a75533c",
   "metadata": {},
   "outputs": [
    {
     "ename": "LoadError",
     "evalue": "syntax: character literal contains multiple characters",
     "output_type": "error",
     "traceback": [
      "syntax: character literal contains multiple characters",
      "",
      "Stacktrace:",
      " [1] top-level scope",
      "   @ In[2]:1",
      " [2] eval",
      "   @ .\\boot.jl:373 [inlined]",
      " [3] include_string(mapexpr::typeof(REPL.softscope), mod::Module, code::String, filename::String)",
      "   @ Base .\\loading.jl:1196"
     ]
    }
   ],
   "source": [
    "println('hello world')"
   ]
  },
  {
   "cell_type": "code",
   "execution_count": 3,
   "id": "ab761faa-49cc-492a-aacc-b431a86bf917",
   "metadata": {},
   "outputs": [
    {
     "name": "stdout",
     "output_type": "stream",
     "text": [
      "hello world\n"
     ]
    }
   ],
   "source": [
    "println(\"hello world\")"
   ]
  },
  {
   "cell_type": "code",
   "execution_count": 12,
   "id": "51ffef8e-5414-4ec1-ad09-24333a42000e",
   "metadata": {},
   "outputs": [
    {
     "data": {
      "text/plain": [
       "String"
      ]
     },
     "execution_count": 12,
     "metadata": {},
     "output_type": "execute_result"
    }
   ],
   "source": [
    "a = \"abc\"\n",
    "typeof(a)"
   ]
  },
  {
   "cell_type": "code",
   "execution_count": 18,
   "id": "bee7b786-108f-444b-936e-1dd7870f5d7f",
   "metadata": {},
   "outputs": [
    {
     "data": {
      "text/plain": [
       "'a': ASCII/Unicode U+0061 (category Ll: Letter, lowercase)"
      ]
     },
     "execution_count": 18,
     "metadata": {},
     "output_type": "execute_result"
    }
   ],
   "source": [
    "b = 'a'\n",
    "b"
   ]
  },
  {
   "cell_type": "code",
   "execution_count": 19,
   "id": "5e0904a8-1eec-40c9-ab79-5d26015c45cc",
   "metadata": {},
   "outputs": [
    {
     "data": {
      "text/plain": [
       "Char"
      ]
     },
     "execution_count": 19,
     "metadata": {},
     "output_type": "execute_result"
    }
   ],
   "source": [
    "typeof(b)"
   ]
  },
  {
   "cell_type": "code",
   "execution_count": 15,
   "id": "6a9efd22-5436-46ce-b1c7-ad5084cffa97",
   "metadata": {},
   "outputs": [
    {
     "ename": "LoadError",
     "evalue": "syntax: character literal contains multiple characters",
     "output_type": "error",
     "traceback": [
      "syntax: character literal contains multiple characters",
      "",
      "Stacktrace:",
      " [1] top-level scope",
      "   @ In[15]:1",
      " [2] eval",
      "   @ .\\boot.jl:373 [inlined]",
      " [3] include_string(mapexpr::typeof(REPL.softscope), mod::Module, code::String, filename::String)",
      "   @ Base .\\loading.jl:1196"
     ]
    }
   ],
   "source": [
    "c = 'abc'"
   ]
  },
  {
   "cell_type": "code",
   "execution_count": 7,
   "id": "b60fb74c-4d15-48a6-b1dc-68e3f4952db5",
   "metadata": {},
   "outputs": [
    {
     "name": "stdout",
     "output_type": "stream",
     "text": [
      "Hello World\n",
      "(Hello)World\n"
     ]
    }
   ],
   "source": [
    "## 포매팅\n",
    "abc = \"Hello\"\n",
    "println(\"$abc World\")\n",
    "println(\"($abc)World\")"
   ]
  },
  {
   "cell_type": "markdown",
   "id": "fb551707-440e-4a96-a72a-a00d194cf48a",
   "metadata": {},
   "source": [
    "## 숫자 자료형\n",
    "- `Int` \n",
    "- `Float64`"
   ]
  },
  {
   "cell_type": "code",
   "execution_count": 9,
   "id": "e99ddd4b-c25c-4a34-8f3d-50a91de0db51",
   "metadata": {},
   "outputs": [
    {
     "data": {
      "text/plain": [
       "Int64"
      ]
     },
     "execution_count": 9,
     "metadata": {},
     "output_type": "execute_result"
    }
   ],
   "source": [
    "Int"
   ]
  },
  {
   "cell_type": "code",
   "execution_count": 16,
   "id": "374a4a5c-b9ee-436e-bc61-a476adc93461",
   "metadata": {},
   "outputs": [
    {
     "data": {
      "text/plain": [
       "Int32"
      ]
     },
     "execution_count": 16,
     "metadata": {},
     "output_type": "execute_result"
    }
   ],
   "source": [
    "b = Int32(2)\n",
    "typeof(b)"
   ]
  },
  {
   "cell_type": "markdown",
   "id": "7eea8e38-2fcf-435b-a14d-5d23214db1eb",
   "metadata": {},
   "source": [
    "### 자료형의 Hiarachy\n"
   ]
  },
  {
   "cell_type": "code",
   "execution_count": 23,
   "id": "e093f0df-4fc9-4ed3-b3cc-4d199c686dbe",
   "metadata": {},
   "outputs": [
    {
     "data": {
      "text/plain": [
       "true"
      ]
     },
     "execution_count": 23,
     "metadata": {},
     "output_type": "execute_result"
    }
   ],
   "source": [
    "Int32 <: Integer"
   ]
  },
  {
   "cell_type": "code",
   "execution_count": 24,
   "id": "936136a4-46f9-4f72-b989-d13c104d2afa",
   "metadata": {},
   "outputs": [
    {
     "data": {
      "text/plain": [
       "true"
      ]
     },
     "execution_count": 24,
     "metadata": {},
     "output_type": "execute_result"
    }
   ],
   "source": [
    "Int64 <: Integer"
   ]
  },
  {
   "cell_type": "code",
   "execution_count": 25,
   "id": "42c96b03-a7af-4f29-b2fb-43fb4416a32b",
   "metadata": {},
   "outputs": [
    {
     "data": {
      "text/plain": [
       "false"
      ]
     },
     "execution_count": 25,
     "metadata": {},
     "output_type": "execute_result"
    }
   ],
   "source": [
    "Char <: Integer"
   ]
  },
  {
   "cell_type": "code",
   "execution_count": 26,
   "id": "35d771e3-648e-44b5-97c7-b3bf5a46699d",
   "metadata": {},
   "outputs": [
    {
     "data": {
      "text/plain": [
       "true"
      ]
     },
     "execution_count": 26,
     "metadata": {},
     "output_type": "execute_result"
    }
   ],
   "source": [
    "Bool <: Integer"
   ]
  },
  {
   "cell_type": "code",
   "execution_count": 27,
   "id": "8b4f6298-3299-455b-91b8-180fe09780e6",
   "metadata": {},
   "outputs": [
    {
     "data": {
      "text/plain": [
       "true"
      ]
     },
     "execution_count": 27,
     "metadata": {},
     "output_type": "execute_result"
    }
   ],
   "source": [
    "Float32 <: AbstractFloat "
   ]
  },
  {
   "cell_type": "code",
   "execution_count": 28,
   "id": "0b1aeb8e-186c-470d-8142-e331d299e3cb",
   "metadata": {},
   "outputs": [
    {
     "data": {
      "text/plain": [
       "true"
      ]
     },
     "execution_count": 28,
     "metadata": {},
     "output_type": "execute_result"
    }
   ],
   "source": [
    "Float64 <: AbstractFloat "
   ]
  },
  {
   "cell_type": "code",
   "execution_count": 29,
   "id": "0c96c0e4-c584-4b5c-8bc5-f59f427f741d",
   "metadata": {},
   "outputs": [
    {
     "data": {
      "text/plain": [
       "true"
      ]
     },
     "execution_count": 29,
     "metadata": {},
     "output_type": "execute_result"
    }
   ],
   "source": [
    "Int64 <: Integer <: Real"
   ]
  },
  {
   "cell_type": "code",
   "execution_count": 31,
   "id": "724506cc-787a-4d0b-b9f4-fbfe1c9f6f41",
   "metadata": {},
   "outputs": [
    {
     "data": {
      "text/plain": [
       "false"
      ]
     },
     "execution_count": 31,
     "metadata": {},
     "output_type": "execute_result"
    }
   ],
   "source": [
    "String <: Integer <: Real"
   ]
  },
  {
   "cell_type": "code",
   "execution_count": 32,
   "id": "44d88f89-9685-43fd-9cd9-44aec5e78f43",
   "metadata": {},
   "outputs": [
    {
     "data": {
      "text/plain": [
       "true"
      ]
     },
     "execution_count": 32,
     "metadata": {},
     "output_type": "execute_result"
    }
   ],
   "source": [
    "Float64 <: Real"
   ]
  },
  {
   "cell_type": "code",
   "execution_count": 34,
   "id": "60cde956-f129-458f-ae64-db79f9932f8b",
   "metadata": {},
   "outputs": [
    {
     "data": {
      "text/plain": [
       "1.0 + 2.0im"
      ]
     },
     "execution_count": 34,
     "metadata": {},
     "output_type": "execute_result"
    }
   ],
   "source": [
    "z = 1.0 + 2.0* im # 복소수도 지원"
   ]
  },
  {
   "cell_type": "code",
   "execution_count": 35,
   "id": "06889271-8f18-4021-95e4-2b3c8d49f6fd",
   "metadata": {},
   "outputs": [
    {
     "data": {
      "text/plain": [
       "ComplexF64 (alias for Complex{Float64})"
      ]
     },
     "execution_count": 35,
     "metadata": {},
     "output_type": "execute_result"
    }
   ],
   "source": [
    "typeof(z)"
   ]
  },
  {
   "cell_type": "code",
   "execution_count": 37,
   "id": "95076154-0e50-4867-8901-edde66a4b78d",
   "metadata": {},
   "outputs": [
    {
     "data": {
      "text/plain": [
       "true"
      ]
     },
     "execution_count": 37,
     "metadata": {},
     "output_type": "execute_result"
    }
   ],
   "source": [
    "Complex <: Number"
   ]
  },
  {
   "cell_type": "code",
   "execution_count": 38,
   "id": "bf307151-a9f7-49cc-be66-2c494aecd946",
   "metadata": {},
   "outputs": [
    {
     "data": {
      "text/plain": [
       "true"
      ]
     },
     "execution_count": 38,
     "metadata": {},
     "output_type": "execute_result"
    }
   ],
   "source": [
    "Real <: Number"
   ]
  },
  {
   "cell_type": "markdown",
   "id": "e7081ac0-baf9-4a61-a060-7389e5b66f7a",
   "metadata": {},
   "source": [
    "### 벡터, 매트릭스\n",
    "    - 파이썬의 리스트와 같은 개념\n",
    "    - 하지만 줄리아에선 어레이 개념으로 정의한다.\n",
    "    - 인덱싱\n",
    "        - 1부터 시작한다!\n",
    "        - 파이썬 리스트의 인덱싱 방법도 다르다. (줄리아가 보다 직관적)"
   ]
  },
  {
   "cell_type": "code",
   "execution_count": 39,
   "id": "23b3b0ee-4bee-43a1-91cf-adca66677c3f",
   "metadata": {},
   "outputs": [
    {
     "data": {
      "text/plain": [
       "4-element Vector{Int64}:\n",
       " 1\n",
       " 2\n",
       " 3\n",
       " 4"
      ]
     },
     "execution_count": 39,
     "metadata": {},
     "output_type": "execute_result"
    }
   ],
   "source": [
    "v = [1,2,3,4]"
   ]
  },
  {
   "cell_type": "code",
   "execution_count": 40,
   "id": "29f7f30d-61cd-4be8-a69c-df6f25c6dfc4",
   "metadata": {},
   "outputs": [
    {
     "data": {
      "text/plain": [
       "Vector{Int64} (alias for Array{Int64, 1})"
      ]
     },
     "execution_count": 40,
     "metadata": {},
     "output_type": "execute_result"
    }
   ],
   "source": [
    "typeof(v)"
   ]
  },
  {
   "cell_type": "code",
   "execution_count": 41,
   "id": "26892d02-c5e9-46a8-a920-1f189679f796",
   "metadata": {},
   "outputs": [
    {
     "data": {
      "text/plain": [
       "3×4 Matrix{Int64}:\n",
       " 1   2   3   4\n",
       " 5   6   7   8\n",
       " 9  10  11  12"
      ]
     },
     "execution_count": 41,
     "metadata": {},
     "output_type": "execute_result"
    }
   ],
   "source": [
    "A = [ 1 2 3 4;\n",
    "    5 6 7 8; \n",
    "    9 10 11 12 ] "
   ]
  },
  {
   "cell_type": "code",
   "execution_count": 42,
   "id": "e1b34f33-9277-4dbc-93fd-9e3f9e11ca14",
   "metadata": {},
   "outputs": [
    {
     "data": {
      "text/plain": [
       "Matrix{Int64} (alias for Array{Int64, 2})"
      ]
     },
     "execution_count": 42,
     "metadata": {},
     "output_type": "execute_result"
    }
   ],
   "source": [
    "typeof(A)"
   ]
  },
  {
   "cell_type": "code",
   "execution_count": 43,
   "id": "b16d557e-6e5c-4363-b3bd-e2157b74bfe0",
   "metadata": {},
   "outputs": [
    {
     "ename": "LoadError",
     "evalue": "BoundsError: attempt to access 4-element Vector{Int64} at index [0]",
     "output_type": "error",
     "traceback": [
      "BoundsError: attempt to access 4-element Vector{Int64} at index [0]",
      "",
      "Stacktrace:",
      " [1] getindex(A::Vector{Int64}, i1::Int64)",
      "   @ Base .\\array.jl:861",
      " [2] top-level scope",
      "   @ In[43]:1",
      " [3] eval",
      "   @ .\\boot.jl:373 [inlined]",
      " [4] include_string(mapexpr::typeof(REPL.softscope), mod::Module, code::String, filename::String)",
      "   @ Base .\\loading.jl:1196"
     ]
    }
   ],
   "source": [
    "v[0]"
   ]
  },
  {
   "cell_type": "code",
   "execution_count": 45,
   "id": "afef4e6d-bfd4-4d65-8f66-f102705c4c51",
   "metadata": {},
   "outputs": [
    {
     "data": {
      "text/plain": [
       "1"
      ]
     },
     "execution_count": 45,
     "metadata": {},
     "output_type": "execute_result"
    }
   ],
   "source": [
    "v[1]"
   ]
  },
  {
   "cell_type": "code",
   "execution_count": 46,
   "id": "7c853d5a-4931-4e26-a796-abf03d7e7417",
   "metadata": {},
   "outputs": [
    {
     "data": {
      "text/plain": [
       "1"
      ]
     },
     "execution_count": 46,
     "metadata": {},
     "output_type": "execute_result"
    }
   ],
   "source": [
    "A[1,1]"
   ]
  },
  {
   "cell_type": "code",
   "execution_count": 47,
   "id": "41383b27-3bea-4fc8-a471-864aebd8c3be",
   "metadata": {},
   "outputs": [
    {
     "data": {
      "text/plain": [
       "3-element Vector{Int64}:\n",
       "  2\n",
       "  6\n",
       " 10"
      ]
     },
     "execution_count": 47,
     "metadata": {},
     "output_type": "execute_result"
    }
   ],
   "source": [
    "A[:, 2]"
   ]
  },
  {
   "cell_type": "code",
   "execution_count": 48,
   "id": "3066ad3d-9369-41e5-b371-13bef04a42de",
   "metadata": {},
   "outputs": [
    {
     "data": {
      "text/plain": [
       "3×4 Matrix{Int64}:\n",
       " 1   2   3   4\n",
       " 5   6   7   8\n",
       " 9  10  11  12"
      ]
     },
     "execution_count": 48,
     "metadata": {},
     "output_type": "execute_result"
    }
   ],
   "source": [
    "A[:, :]"
   ]
  },
  {
   "cell_type": "code",
   "execution_count": 50,
   "id": "f21dc7bb-a47f-46ae-b44d-807cb948497c",
   "metadata": {},
   "outputs": [
    {
     "data": {
      "text/plain": [
       "1-element Vector{UnitRange{Int64}}:\n",
       " 1:10"
      ]
     },
     "execution_count": 50,
     "metadata": {},
     "output_type": "execute_result"
    }
   ],
   "source": [
    "v1 = [1:10]"
   ]
  },
  {
   "cell_type": "code",
   "execution_count": 51,
   "id": "79a76984-577e-49f0-a3fe-fe05c643e053",
   "metadata": {},
   "outputs": [
    {
     "data": {
      "text/plain": [
       "10-element Vector{Int64}:\n",
       "  1\n",
       "  2\n",
       "  3\n",
       "  4\n",
       "  5\n",
       "  6\n",
       "  7\n",
       "  8\n",
       "  9\n",
       " 10"
      ]
     },
     "execution_count": 51,
     "metadata": {},
     "output_type": "execute_result"
    }
   ],
   "source": [
    "v2 = collect(1:10)"
   ]
  },
  {
   "cell_type": "code",
   "execution_count": 52,
   "id": "f3f21dfc-a2ba-4404-9875-eef40e539b3f",
   "metadata": {},
   "outputs": [
    {
     "data": {
      "text/plain": [
       "Vector{UnitRange{Int64}} (alias for Array{UnitRange{Int64}, 1})"
      ]
     },
     "execution_count": 52,
     "metadata": {},
     "output_type": "execute_result"
    }
   ],
   "source": [
    "typeof(v1)"
   ]
  },
  {
   "cell_type": "code",
   "execution_count": 53,
   "id": "ce0421bb-5fcf-4180-8d02-1ca949332585",
   "metadata": {},
   "outputs": [
    {
     "data": {
      "text/plain": [
       "Vector{Int64} (alias for Array{Int64, 1})"
      ]
     },
     "execution_count": 53,
     "metadata": {},
     "output_type": "execute_result"
    }
   ],
   "source": [
    "typeof(v2)"
   ]
  },
  {
   "cell_type": "code",
   "execution_count": 54,
   "id": "a578863f-8432-47ad-a5a0-6527e537dfa7",
   "metadata": {},
   "outputs": [
    {
     "ename": "LoadError",
     "evalue": "BoundsError: attempt to access 1-element Vector{UnitRange{Int64}} at index [2:3]",
     "output_type": "error",
     "traceback": [
      "BoundsError: attempt to access 1-element Vector{UnitRange{Int64}} at index [2:3]",
      "",
      "Stacktrace:",
      " [1] throw_boundserror(A::Vector{UnitRange{Int64}}, I::Tuple{UnitRange{Int64}})",
      "   @ Base .\\abstractarray.jl:691",
      " [2] checkbounds",
      "   @ .\\abstractarray.jl:656 [inlined]",
      " [3] getindex(A::Vector{UnitRange{Int64}}, I::UnitRange{Int64})",
      "   @ Base .\\array.jl:867",
      " [4] top-level scope",
      "   @ In[54]:1",
      " [5] eval",
      "   @ .\\boot.jl:373 [inlined]",
      " [6] include_string(mapexpr::typeof(REPL.softscope), mod::Module, code::String, filename::String)",
      "   @ Base .\\loading.jl:1196"
     ]
    }
   ],
   "source": [
    "v1[2:3]"
   ]
  },
  {
   "cell_type": "code",
   "execution_count": 55,
   "id": "1b198d34-6ce0-405c-b431-e401dd60b0dd",
   "metadata": {},
   "outputs": [
    {
     "data": {
      "text/plain": [
       "2-element Vector{Int64}:\n",
       " 2\n",
       " 3"
      ]
     },
     "execution_count": 55,
     "metadata": {},
     "output_type": "execute_result"
    }
   ],
   "source": [
    "v2[2:3]"
   ]
  },
  {
   "cell_type": "code",
   "execution_count": 57,
   "id": "57ace182-b888-43bc-bfa3-9570e2490c0d",
   "metadata": {},
   "outputs": [
    {
     "data": {
      "text/plain": [
       "10-element Vector{Int64}:\n",
       "  10\n",
       "  20\n",
       "  30\n",
       "  40\n",
       "  50\n",
       "  60\n",
       "  70\n",
       "  80\n",
       "  90\n",
       " 100"
      ]
     },
     "execution_count": 57,
     "metadata": {},
     "output_type": "execute_result"
    }
   ],
   "source": [
    "# list comprehension도 가능함.\n",
    "[x * 10 for x in 1:10]"
   ]
  },
  {
   "cell_type": "markdown",
   "id": "b25170e9-df6d-4a3e-aff6-5bd73abb48c6",
   "metadata": {},
   "source": [
    "## 라이브러리 기반 자료형"
   ]
  },
  {
   "cell_type": "code",
   "execution_count": 59,
   "id": "bc9a5edb-1534-48d4-8e67-c2ca48cba63d",
   "metadata": {},
   "outputs": [],
   "source": [
    "using SparseArrays"
   ]
  },
  {
   "cell_type": "code",
   "execution_count": 60,
   "id": "785c3297-a79f-4b16-9ce5-7d87b2765641",
   "metadata": {},
   "outputs": [
    {
     "data": {
      "text/plain": [
       "SparseVector"
      ]
     },
     "execution_count": 60,
     "metadata": {},
     "output_type": "execute_result"
    }
   ],
   "source": [
    "SparseVector"
   ]
  },
  {
   "cell_type": "code",
   "execution_count": 61,
   "id": "327b5431-d3b7-45f0-9c34-edaad6c083e3",
   "metadata": {},
   "outputs": [
    {
     "data": {
      "text/plain": [
       "true"
      ]
     },
     "execution_count": 61,
     "metadata": {},
     "output_type": "execute_result"
    }
   ],
   "source": [
    "SparseVector <: AbstractVector"
   ]
  },
  {
   "cell_type": "code",
   "execution_count": 62,
   "id": "5633a235-a100-467d-a7fa-08bf4d3f77ac",
   "metadata": {},
   "outputs": [
    {
     "data": {
      "text/plain": [
       "false"
      ]
     },
     "execution_count": 62,
     "metadata": {},
     "output_type": "execute_result"
    }
   ],
   "source": [
    "Vector <: SparseVector"
   ]
  },
  {
   "cell_type": "code",
   "execution_count": 63,
   "id": "c86582ac-ebec-4ba2-8b0e-9eb7d6679fa8",
   "metadata": {},
   "outputs": [
    {
     "data": {
      "text/plain": [
       "true"
      ]
     },
     "execution_count": 63,
     "metadata": {},
     "output_type": "execute_result"
    }
   ],
   "source": [
    "Vector <: AbstractVector"
   ]
  },
  {
   "cell_type": "markdown",
   "id": "bc644d41-0f26-489d-ad96-014824873f25",
   "metadata": {},
   "source": [
    "## Unicode"
   ]
  },
  {
   "cell_type": "code",
   "execution_count": 66,
   "id": "b3775427-14f8-4f76-ba37-b726533264d5",
   "metadata": {},
   "outputs": [
    {
     "data": {
      "text/plain": [
       "10"
      ]
     },
     "execution_count": 66,
     "metadata": {},
     "output_type": "execute_result"
    }
   ],
   "source": [
    "α = 10"
   ]
  },
  {
   "cell_type": "code",
   "execution_count": 67,
   "id": "e58ad156-6f36-4fed-8e0e-0888937c13a9",
   "metadata": {},
   "outputs": [
    {
     "data": {
      "text/plain": [
       "20"
      ]
     },
     "execution_count": 67,
     "metadata": {},
     "output_type": "execute_result"
    }
   ],
   "source": [
    "β = 20"
   ]
  },
  {
   "cell_type": "code",
   "execution_count": 68,
   "id": "665a023f-fd93-4771-ac3b-f5488a26fac3",
   "metadata": {},
   "outputs": [
    {
     "data": {
      "text/plain": [
       "30"
      ]
     },
     "execution_count": 68,
     "metadata": {},
     "output_type": "execute_result"
    }
   ],
   "source": [
    "α + β"
   ]
  },
  {
   "cell_type": "code",
   "execution_count": 70,
   "id": "8f5051a8-8a3c-494b-8ab2-8b7acf18c596",
   "metadata": {},
   "outputs": [
    {
     "name": "stdout",
     "output_type": "stream",
     "text": [
      "🍎"
     ]
    }
   ],
   "source": [
    "print(\"🍎\")"
   ]
  },
  {
   "cell_type": "code",
   "execution_count": 71,
   "id": "86c0a774-21c0-444a-a4f5-e519e309f551",
   "metadata": {},
   "outputs": [
    {
     "data": {
      "text/plain": [
       "10"
      ]
     },
     "execution_count": 71,
     "metadata": {},
     "output_type": "execute_result"
    }
   ],
   "source": [
    "🍎 = 10"
   ]
  },
  {
   "cell_type": "code",
   "execution_count": 72,
   "id": "74a93048-99d4-47d3-beed-c16940f5a250",
   "metadata": {},
   "outputs": [
    {
     "data": {
      "text/plain": [
       "20"
      ]
     },
     "execution_count": 72,
     "metadata": {},
     "output_type": "execute_result"
    }
   ],
   "source": [
    "🍌 = 20"
   ]
  },
  {
   "cell_type": "code",
   "execution_count": 73,
   "id": "468acb90-4ef0-447c-8dec-85053faefe8d",
   "metadata": {},
   "outputs": [
    {
     "data": {
      "text/plain": [
       "40"
      ]
     },
     "execution_count": 73,
     "metadata": {},
     "output_type": "execute_result"
    }
   ],
   "source": [
    "🍉 = 40"
   ]
  },
  {
   "cell_type": "code",
   "execution_count": 74,
   "id": "d4160927-1ca7-46b1-8b8b-a6860e271190",
   "metadata": {},
   "outputs": [
    {
     "name": "stdout",
     "output_type": "stream",
     "text": [
      "[10, 20, 40]"
     ]
    }
   ],
   "source": [
    "fruits = [🍎, 🍌, 🍉]\n",
    "\n",
    "print(fruits)"
   ]
  },
  {
   "cell_type": "code",
   "execution_count": 75,
   "id": "00603573-3503-4c31-9d61-f969264a59da",
   "metadata": {},
   "outputs": [
    {
     "data": {
      "text/plain": [
       "3-element Vector{Int64}:\n",
       " 20\n",
       " 30\n",
       " 50"
      ]
     },
     "execution_count": 75,
     "metadata": {},
     "output_type": "execute_result"
    }
   ],
   "source": [
    "[fruit + 10 for fruit in fruits]"
   ]
  },
  {
   "cell_type": "code",
   "execution_count": 76,
   "id": "ad199378-af34-49b2-a407-08309b622c7e",
   "metadata": {},
   "outputs": [
    {
     "name": "stdout",
     "output_type": "stream",
     "text": [
      "101"
     ]
    }
   ],
   "source": [
    "나 = 10\n",
    "너 = 나 ^2 + 1\n",
    "\n",
    "print(너)"
   ]
  },
  {
   "cell_type": "code",
   "execution_count": null,
   "id": "60c1642c",
   "metadata": {},
   "outputs": [],
   "source": [
    "\n",
    "\n",
    "julia> 나 = 10 10\n",
    "\n",
    "julia> 너 = 나^2 100\n",
    "\n",
    "julia> for i in fruits println(i)\n",
    "\n",
    "   end\n",
    "ERROR: UndefVarError: fruits not defined Stacktrace: [1] top-level scope @ .\\none:1\n",
    "\n",
    "julia> for i in fruits println(i) end ERROR: UndefVarError: fruits not defined Stacktrace: [1] top-level scope @ .\\none:1\n",
    "\n",
    "julia> for i in fruits println(i) end ERROR: UndefVarError: fruits not defined Stacktrace: [1] top-level scope @ .\\none:1\n",
    "\n",
    "julia> for i in fruit println(i) end 10 20 40\n",
    "\n",
    "julia> Γ = [1:2:10] 1-element Vector{StepRange{Int64, Int64}}: 1:2:9\n",
    "\n",
    "julia> for γ in Γ println(γ) end 1:2:9\n",
    "\n",
    "julia> for γ ∈ Γ println(γ) end 1:2:9\n",
    "\n",
    "julia> function f(x) return x ^ 2 + 10 end f (generic function with 1 method)\n",
    "\n",
    "julia> f(2) 14\n",
    "\n",
    "julia> f(x) = x^2 + 10 f (generic function with 1 method)\n",
    "\n",
    "julia> f(2) 14\n",
    "\n",
    "julia> g(x, λ) = x^2 + λ^2 g (generic function with 1 method)\n",
    "\n",
    "julia> g(2, 4) 20\n",
    "\n",
    "julia> function h(x) x= 10 y = 20 x + y end h (generic function with 1 method)\n",
    "\n",
    "julia> h(x) ERROR: UndefVarError: x not defined Stacktrace: [1] top-level scope @ none:1\n",
    "\n",
    "julia> h h (generic function with 1 method)\n",
    "\n",
    "julia> h(1) 30\n",
    "\n",
    "julia> println(\"return은 기본적으로 맨 마지막 값을 따름\") return은 기본적으로 맨 마지막 값을 따름\n",
    "\n",
    "julia> funciton foo(x, y = 10; option = false) ERROR: syntax: extra token \"foo\" after end of expression\n",
    "\n",
    "julia> function foo(x, y = 10; option = false) if option return x + y else return x^2 + y^2 end end foo (generic function with 2 methods)\n",
    "\n",
    "julia> foo(1) 101\n",
    "\n",
    "julia> foo(1, option = T) ERROR: UndefVarError: T not defined Stacktrace: [1] top-level scope @ none:1\n",
    "\n",
    "julia> foo(1, option = true) 11\n",
    "\n",
    "julia> foo(1, option = True) ERROR: UndefVarError: True not defined Stacktrace: [1] top-level scope @ none:1\n",
    "\n",
    "julia> foo(1, 4; option = true) 5"
   ]
  },
  {
   "cell_type": "code",
   "execution_count": null,
   "id": "2645d6fe-4083-4bcd-b32b-025d38241510",
   "metadata": {},
   "outputs": [],
   "source": []
  }
 ],
 "metadata": {
  "kernelspec": {
   "display_name": "Julia 1.7.2",
   "language": "julia",
   "name": "julia-1.7"
  },
  "language_info": {
   "file_extension": ".jl",
   "mimetype": "application/julia",
   "name": "julia",
   "version": "1.7.2"
  }
 },
 "nbformat": 4,
 "nbformat_minor": 5
}
