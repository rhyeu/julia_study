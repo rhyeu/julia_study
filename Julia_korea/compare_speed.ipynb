{
 "cells": [
  {
   "cell_type": "markdown",
   "id": "3fc49441-b646-4527-bd69-9c31fab6d45c",
   "metadata": {},
   "source": [
    "## 피보나치 수열 연산 비교 실험"
   ]
  },
  {
   "cell_type": "code",
   "execution_count": 4,
   "id": "18a7ed89-91ee-422b-8a10-fc6a8522af5f",
   "metadata": {},
   "outputs": [],
   "source": [
    "def fib(n):\n",
    "    if n < 2:\n",
    "        return n\n",
    "    else:\n",
    "        return fib(n-1) + fib(n-2)\n",
    "        "
   ]
  },
  {
   "cell_type": "code",
   "execution_count": 5,
   "id": "9410bda8-087b-4a9f-9e8a-c86ad4e97fd2",
   "metadata": {},
   "outputs": [
    {
     "data": {
      "text/plain": [
       "2"
      ]
     },
     "execution_count": 5,
     "metadata": {},
     "output_type": "execute_result"
    }
   ],
   "source": [
    "fib(3)"
   ]
  },
  {
   "cell_type": "code",
   "execution_count": 7,
   "id": "0a518f8c-08ed-4df3-82e7-943b8d1f61d4",
   "metadata": {},
   "outputs": [
    {
     "name": "stdout",
     "output_type": "stream",
     "text": [
      "CPU times: total: 734 ms\n",
      "Wall time: 723 ms\n"
     ]
    },
    {
     "data": {
      "text/plain": [
       "832040"
      ]
     },
     "execution_count": 7,
     "metadata": {},
     "output_type": "execute_result"
    }
   ],
   "source": [
    "%time fib(30)"
   ]
  },
  {
   "cell_type": "markdown",
   "id": "f9b8e6c5-2ac3-403d-93b1-e53674ddf631",
   "metadata": {},
   "source": [
    "## 행렬연산 비교 실험"
   ]
  },
  {
   "cell_type": "code",
   "execution_count": null,
   "id": "ee3e7712-4080-40da-b891-0bc183e51c67",
   "metadata": {},
   "outputs": [],
   "source": [
    "import numpy as np\n",
    "A = np.random.rand(10, 10)\n",
    "B = np.random.rand(10, 10)"
   ]
  },
  {
   "cell_type": "code",
   "execution_count": null,
   "id": "20c52524-f0e1-492a-8129-0eaa33812e2d",
   "metadata": {},
   "outputs": [],
   "source": [
    "%timeit A @ B"
   ]
  },
  {
   "cell_type": "code",
   "execution_count": null,
   "id": "fc333fb8-991d-4a0d-8dfe-81e8bd102057",
   "metadata": {},
   "outputs": [],
   "source": []
  }
 ],
 "metadata": {
  "kernelspec": {
   "display_name": "Python 3 (ipykernel)",
   "language": "python",
   "name": "python3"
  },
  "language_info": {
   "codemirror_mode": {
    "name": "ipython",
    "version": 3
   },
   "file_extension": ".py",
   "mimetype": "text/x-python",
   "name": "python",
   "nbconvert_exporter": "python",
   "pygments_lexer": "ipython3",
   "version": "3.9.12"
  }
 },
 "nbformat": 4,
 "nbformat_minor": 5
}
