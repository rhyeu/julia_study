{
 "cells": [
  {
   "cell_type": "markdown",
   "id": "ff65b3c9",
   "metadata": {},
   "source": [
    "- reference : \n",
    "    - [Youtube : Julia Tutorial 2022 Korea 줄리아 언어 소개](https://www.youtube.com/watch?v=wjLXmz4D9VQ&t=2131s)\n",
    "    - [Julia Tutorial 2022 Korea 줄리아 언어 소개 - 마크다운 문서](https://github.com/chkwon/JuliaTutorial2022Korea)"
   ]
  },
  {
   "cell_type": "markdown",
   "id": "56f161a2-4a7b-4dc9-bac1-04790a8a6c1a",
   "metadata": {},
   "source": [
    "# 기본 연산 & 자료형\n",
    "    - `String` \n",
    "    - `Char` \n",
    "    - `Int` \n",
    "    - `Float64`\n",
    "    - `Bool` \n",
    "    - `Vector`\n",
    "    - `Matrix`"
   ]
  },
  {
   "cell_type": "code",
   "execution_count": 21,
   "id": "0f02ce7d-fecc-4143-8fb8-b51b2cf4ab44",
   "metadata": {},
   "outputs": [
    {
     "data": {
      "text/plain": [
       "2"
      ]
     },
     "execution_count": 21,
     "metadata": {},
     "output_type": "execute_result"
    }
   ],
   "source": [
    "1+1"
   ]
  },
  {
   "cell_type": "markdown",
   "id": "97a1d7ae-c43a-41f8-823b-f5980b3ffc79",
   "metadata": {},
   "source": [
    "## 문자열\n",
    "\n",
    "- 문자열은 `\"\"`를 사용한다. String\n",
    "- `''`는 `Character`라는 별도의 자료형으로 표현된다.\n",
    "- 포매팅 사용가능\n",
    "- 문자열 간 결합은 `*` 연산자를 사용한다."
   ]
  },
  {
   "cell_type": "markdown",
   "id": "97db8c8f-b3b3-4528-bad2-d56278a76252",
   "metadata": {},
   "source": [
    "### 문자열 선언"
   ]
  },
  {
   "cell_type": "code",
   "execution_count": 2,
   "id": "eb7ba578-6a99-461f-addc-085b6a75533c",
   "metadata": {},
   "outputs": [
    {
     "ename": "LoadError",
     "evalue": "syntax: character literal contains multiple characters",
     "output_type": "error",
     "traceback": [
      "syntax: character literal contains multiple characters",
      "",
      "Stacktrace:",
      " [1] top-level scope",
      "   @ In[2]:1",
      " [2] eval",
      "   @ .\\boot.jl:373 [inlined]",
      " [3] include_string(mapexpr::typeof(REPL.softscope), mod::Module, code::String, filename::String)",
      "   @ Base .\\loading.jl:1196"
     ]
    }
   ],
   "source": [
    "println('hello world')"
   ]
  },
  {
   "cell_type": "code",
   "execution_count": 3,
   "id": "ab761faa-49cc-492a-aacc-b431a86bf917",
   "metadata": {},
   "outputs": [
    {
     "name": "stdout",
     "output_type": "stream",
     "text": [
      "hello world\n"
     ]
    }
   ],
   "source": [
    "println(\"hello world\")"
   ]
  },
  {
   "cell_type": "code",
   "execution_count": 12,
   "id": "51ffef8e-5414-4ec1-ad09-24333a42000e",
   "metadata": {},
   "outputs": [
    {
     "data": {
      "text/plain": [
       "String"
      ]
     },
     "execution_count": 12,
     "metadata": {},
     "output_type": "execute_result"
    }
   ],
   "source": [
    "a = \"abc\"\n",
    "typeof(a)"
   ]
  },
  {
   "cell_type": "code",
   "execution_count": 18,
   "id": "bee7b786-108f-444b-936e-1dd7870f5d7f",
   "metadata": {},
   "outputs": [
    {
     "data": {
      "text/plain": [
       "'a': ASCII/Unicode U+0061 (category Ll: Letter, lowercase)"
      ]
     },
     "execution_count": 18,
     "metadata": {},
     "output_type": "execute_result"
    }
   ],
   "source": [
    "b = 'a'\n",
    "b"
   ]
  },
  {
   "cell_type": "code",
   "execution_count": 19,
   "id": "5e0904a8-1eec-40c9-ab79-5d26015c45cc",
   "metadata": {},
   "outputs": [
    {
     "data": {
      "text/plain": [
       "Char"
      ]
     },
     "execution_count": 19,
     "metadata": {},
     "output_type": "execute_result"
    }
   ],
   "source": [
    "typeof(b)"
   ]
  },
  {
   "cell_type": "code",
   "execution_count": 15,
   "id": "6a9efd22-5436-46ce-b1c7-ad5084cffa97",
   "metadata": {},
   "outputs": [
    {
     "ename": "LoadError",
     "evalue": "syntax: character literal contains multiple characters",
     "output_type": "error",
     "traceback": [
      "syntax: character literal contains multiple characters",
      "",
      "Stacktrace:",
      " [1] top-level scope",
      "   @ In[15]:1",
      " [2] eval",
      "   @ .\\boot.jl:373 [inlined]",
      " [3] include_string(mapexpr::typeof(REPL.softscope), mod::Module, code::String, filename::String)",
      "   @ Base .\\loading.jl:1196"
     ]
    }
   ],
   "source": [
    "c = 'abc'"
   ]
  },
  {
   "cell_type": "markdown",
   "id": "c24d4790-0e3d-49b9-9105-49f815268684",
   "metadata": {},
   "source": [
    "### 문자열 포매팅"
   ]
  },
  {
   "cell_type": "code",
   "execution_count": 7,
   "id": "b60fb74c-4d15-48a6-b1dc-68e3f4952db5",
   "metadata": {},
   "outputs": [
    {
     "name": "stdout",
     "output_type": "stream",
     "text": [
      "Hello World\n",
      "(Hello)World\n"
     ]
    }
   ],
   "source": [
    "## 포매팅\n",
    "abc = \"Hello\"\n",
    "println(\"$abc World\")\n",
    "println(\"($abc)World\")"
   ]
  },
  {
   "cell_type": "markdown",
   "id": "1eab2362-affb-4312-9b75-a57c66db726a",
   "metadata": {},
   "source": [
    "### 문자열 결합"
   ]
  },
  {
   "cell_type": "code",
   "execution_count": 59,
   "id": "2b72652d-7749-46a0-be6e-d7ce3a7930ab",
   "metadata": {},
   "outputs": [
    {
     "data": {
      "text/plain": [
       "\"안녕, \""
      ]
     },
     "execution_count": 59,
     "metadata": {},
     "output_type": "execute_result"
    }
   ],
   "source": [
    "a = \"안녕, \""
   ]
  },
  {
   "cell_type": "code",
   "execution_count": 60,
   "id": "7668fd56-37c2-481b-80e2-6d6b66749e5f",
   "metadata": {},
   "outputs": [
    {
     "data": {
      "text/plain": [
       "\"반가워!\""
      ]
     },
     "execution_count": 60,
     "metadata": {},
     "output_type": "execute_result"
    }
   ],
   "source": [
    "b = \"반가워!\""
   ]
  },
  {
   "cell_type": "code",
   "execution_count": 63,
   "id": "8a113b17-c1ad-4a0d-a9d8-b29197e80449",
   "metadata": {},
   "outputs": [
    {
     "name": "stdout",
     "output_type": "stream",
     "text": [
      "안녕, 반가워!\n"
     ]
    }
   ],
   "source": [
    "println(a * b)"
   ]
  },
  {
   "cell_type": "code",
   "execution_count": 56,
   "id": "bf1cfbff-f219-48c4-8106-4a6016353d72",
   "metadata": {},
   "outputs": [
    {
     "data": {
      "text/plain": [
       "3-element Vector{String}:\n",
       " \"add\"\n",
       " \"jasdf\"\n",
       " \"avds\""
      ]
     },
     "execution_count": 56,
     "metadata": {},
     "output_type": "execute_result"
    }
   ],
   "source": [
    "c = [\"add\", \"jasdf\", \"avds\"]"
   ]
  },
  {
   "cell_type": "markdown",
   "id": "fb551707-440e-4a96-a72a-a00d194cf48a",
   "metadata": {},
   "source": [
    "## 숫자 자료형\n",
    "- `Int` \n",
    "- `Float64`"
   ]
  },
  {
   "cell_type": "code",
   "execution_count": 9,
   "id": "e99ddd4b-c25c-4a34-8f3d-50a91de0db51",
   "metadata": {},
   "outputs": [
    {
     "data": {
      "text/plain": [
       "Int64"
      ]
     },
     "execution_count": 9,
     "metadata": {},
     "output_type": "execute_result"
    }
   ],
   "source": [
    "Int"
   ]
  },
  {
   "cell_type": "code",
   "execution_count": 16,
   "id": "374a4a5c-b9ee-436e-bc61-a476adc93461",
   "metadata": {},
   "outputs": [
    {
     "data": {
      "text/plain": [
       "Int32"
      ]
     },
     "execution_count": 16,
     "metadata": {},
     "output_type": "execute_result"
    }
   ],
   "source": [
    "b = Int32(2)\n",
    "typeof(b)"
   ]
  },
  {
   "cell_type": "markdown",
   "id": "7eea8e38-2fcf-435b-a14d-5d23214db1eb",
   "metadata": {},
   "source": [
    "### 자료형의 Hiarachy\n"
   ]
  },
  {
   "cell_type": "code",
   "execution_count": 23,
   "id": "e093f0df-4fc9-4ed3-b3cc-4d199c686dbe",
   "metadata": {},
   "outputs": [
    {
     "data": {
      "text/plain": [
       "true"
      ]
     },
     "execution_count": 23,
     "metadata": {},
     "output_type": "execute_result"
    }
   ],
   "source": [
    "Int32 <: Integer"
   ]
  },
  {
   "cell_type": "code",
   "execution_count": 24,
   "id": "936136a4-46f9-4f72-b989-d13c104d2afa",
   "metadata": {},
   "outputs": [
    {
     "data": {
      "text/plain": [
       "true"
      ]
     },
     "execution_count": 24,
     "metadata": {},
     "output_type": "execute_result"
    }
   ],
   "source": [
    "Int64 <: Integer"
   ]
  },
  {
   "cell_type": "code",
   "execution_count": 25,
   "id": "42c96b03-a7af-4f29-b2fb-43fb4416a32b",
   "metadata": {},
   "outputs": [
    {
     "data": {
      "text/plain": [
       "false"
      ]
     },
     "execution_count": 25,
     "metadata": {},
     "output_type": "execute_result"
    }
   ],
   "source": [
    "Char <: Integer"
   ]
  },
  {
   "cell_type": "code",
   "execution_count": 26,
   "id": "35d771e3-648e-44b5-97c7-b3bf5a46699d",
   "metadata": {},
   "outputs": [
    {
     "data": {
      "text/plain": [
       "true"
      ]
     },
     "execution_count": 26,
     "metadata": {},
     "output_type": "execute_result"
    }
   ],
   "source": [
    "Bool <: Integer"
   ]
  },
  {
   "cell_type": "code",
   "execution_count": 27,
   "id": "8b4f6298-3299-455b-91b8-180fe09780e6",
   "metadata": {},
   "outputs": [
    {
     "data": {
      "text/plain": [
       "true"
      ]
     },
     "execution_count": 27,
     "metadata": {},
     "output_type": "execute_result"
    }
   ],
   "source": [
    "Float32 <: AbstractFloat "
   ]
  },
  {
   "cell_type": "code",
   "execution_count": 28,
   "id": "0b1aeb8e-186c-470d-8142-e331d299e3cb",
   "metadata": {},
   "outputs": [
    {
     "data": {
      "text/plain": [
       "true"
      ]
     },
     "execution_count": 28,
     "metadata": {},
     "output_type": "execute_result"
    }
   ],
   "source": [
    "Float64 <: AbstractFloat "
   ]
  },
  {
   "cell_type": "code",
   "execution_count": 29,
   "id": "0c96c0e4-c584-4b5c-8bc5-f59f427f741d",
   "metadata": {},
   "outputs": [
    {
     "data": {
      "text/plain": [
       "true"
      ]
     },
     "execution_count": 29,
     "metadata": {},
     "output_type": "execute_result"
    }
   ],
   "source": [
    "Int64 <: Integer <: Real"
   ]
  },
  {
   "cell_type": "code",
   "execution_count": 31,
   "id": "724506cc-787a-4d0b-b9f4-fbfe1c9f6f41",
   "metadata": {},
   "outputs": [
    {
     "data": {
      "text/plain": [
       "false"
      ]
     },
     "execution_count": 31,
     "metadata": {},
     "output_type": "execute_result"
    }
   ],
   "source": [
    "String <: Integer <: Real"
   ]
  },
  {
   "cell_type": "code",
   "execution_count": 32,
   "id": "44d88f89-9685-43fd-9cd9-44aec5e78f43",
   "metadata": {},
   "outputs": [
    {
     "data": {
      "text/plain": [
       "true"
      ]
     },
     "execution_count": 32,
     "metadata": {},
     "output_type": "execute_result"
    }
   ],
   "source": [
    "Float64 <: Real"
   ]
  },
  {
   "cell_type": "code",
   "execution_count": 34,
   "id": "60cde956-f129-458f-ae64-db79f9932f8b",
   "metadata": {},
   "outputs": [
    {
     "data": {
      "text/plain": [
       "1.0 + 2.0im"
      ]
     },
     "execution_count": 34,
     "metadata": {},
     "output_type": "execute_result"
    }
   ],
   "source": [
    "z = 1.0 + 2.0* im # 복소수도 지원"
   ]
  },
  {
   "cell_type": "code",
   "execution_count": 35,
   "id": "06889271-8f18-4021-95e4-2b3c8d49f6fd",
   "metadata": {},
   "outputs": [
    {
     "data": {
      "text/plain": [
       "ComplexF64 (alias for Complex{Float64})"
      ]
     },
     "execution_count": 35,
     "metadata": {},
     "output_type": "execute_result"
    }
   ],
   "source": [
    "typeof(z)"
   ]
  },
  {
   "cell_type": "code",
   "execution_count": 37,
   "id": "95076154-0e50-4867-8901-edde66a4b78d",
   "metadata": {},
   "outputs": [
    {
     "data": {
      "text/plain": [
       "true"
      ]
     },
     "execution_count": 37,
     "metadata": {},
     "output_type": "execute_result"
    }
   ],
   "source": [
    "Complex <: Number"
   ]
  },
  {
   "cell_type": "code",
   "execution_count": 38,
   "id": "bf307151-a9f7-49cc-be66-2c494aecd946",
   "metadata": {},
   "outputs": [
    {
     "data": {
      "text/plain": [
       "true"
      ]
     },
     "execution_count": 38,
     "metadata": {},
     "output_type": "execute_result"
    }
   ],
   "source": [
    "Real <: Number"
   ]
  },
  {
   "cell_type": "markdown",
   "id": "e7081ac0-baf9-4a61-a060-7389e5b66f7a",
   "metadata": {},
   "source": [
    "### 벡터, 매트릭스\n",
    "    - 파이썬의 리스트와 같은 개념\n",
    "    - 하지만 줄리아에선 어레이 개념으로 정의한다.\n",
    "    - 인덱싱\n",
    "        - 1부터 시작한다!\n",
    "        - 파이썬 리스트의 인덱싱 방법도 다르다. (줄리아가 보다 직관적)"
   ]
  },
  {
   "cell_type": "code",
   "execution_count": 39,
   "id": "23b3b0ee-4bee-43a1-91cf-adca66677c3f",
   "metadata": {},
   "outputs": [
    {
     "data": {
      "text/plain": [
       "4-element Vector{Int64}:\n",
       " 1\n",
       " 2\n",
       " 3\n",
       " 4"
      ]
     },
     "execution_count": 39,
     "metadata": {},
     "output_type": "execute_result"
    }
   ],
   "source": [
    "v = [1,2,3,4]"
   ]
  },
  {
   "cell_type": "code",
   "execution_count": 40,
   "id": "29f7f30d-61cd-4be8-a69c-df6f25c6dfc4",
   "metadata": {},
   "outputs": [
    {
     "data": {
      "text/plain": [
       "Vector{Int64} (alias for Array{Int64, 1})"
      ]
     },
     "execution_count": 40,
     "metadata": {},
     "output_type": "execute_result"
    }
   ],
   "source": [
    "typeof(v)"
   ]
  },
  {
   "cell_type": "code",
   "execution_count": 41,
   "id": "26892d02-c5e9-46a8-a920-1f189679f796",
   "metadata": {},
   "outputs": [
    {
     "data": {
      "text/plain": [
       "3×4 Matrix{Int64}:\n",
       " 1   2   3   4\n",
       " 5   6   7   8\n",
       " 9  10  11  12"
      ]
     },
     "execution_count": 41,
     "metadata": {},
     "output_type": "execute_result"
    }
   ],
   "source": [
    "A = [ 1 2 3 4;\n",
    "    5 6 7 8; \n",
    "    9 10 11 12 ] "
   ]
  },
  {
   "cell_type": "code",
   "execution_count": 42,
   "id": "e1b34f33-9277-4dbc-93fd-9e3f9e11ca14",
   "metadata": {},
   "outputs": [
    {
     "data": {
      "text/plain": [
       "Matrix{Int64} (alias for Array{Int64, 2})"
      ]
     },
     "execution_count": 42,
     "metadata": {},
     "output_type": "execute_result"
    }
   ],
   "source": [
    "typeof(A)"
   ]
  },
  {
   "cell_type": "code",
   "execution_count": 43,
   "id": "b16d557e-6e5c-4363-b3bd-e2157b74bfe0",
   "metadata": {},
   "outputs": [
    {
     "ename": "LoadError",
     "evalue": "BoundsError: attempt to access 4-element Vector{Int64} at index [0]",
     "output_type": "error",
     "traceback": [
      "BoundsError: attempt to access 4-element Vector{Int64} at index [0]",
      "",
      "Stacktrace:",
      " [1] getindex(A::Vector{Int64}, i1::Int64)",
      "   @ Base .\\array.jl:861",
      " [2] top-level scope",
      "   @ In[43]:1",
      " [3] eval",
      "   @ .\\boot.jl:373 [inlined]",
      " [4] include_string(mapexpr::typeof(REPL.softscope), mod::Module, code::String, filename::String)",
      "   @ Base .\\loading.jl:1196"
     ]
    }
   ],
   "source": [
    "v[0]"
   ]
  },
  {
   "cell_type": "code",
   "execution_count": 45,
   "id": "afef4e6d-bfd4-4d65-8f66-f102705c4c51",
   "metadata": {},
   "outputs": [
    {
     "data": {
      "text/plain": [
       "1"
      ]
     },
     "execution_count": 45,
     "metadata": {},
     "output_type": "execute_result"
    }
   ],
   "source": [
    "v[1]"
   ]
  },
  {
   "cell_type": "code",
   "execution_count": 46,
   "id": "7c853d5a-4931-4e26-a796-abf03d7e7417",
   "metadata": {},
   "outputs": [
    {
     "data": {
      "text/plain": [
       "1"
      ]
     },
     "execution_count": 46,
     "metadata": {},
     "output_type": "execute_result"
    }
   ],
   "source": [
    "A[1,1]"
   ]
  },
  {
   "cell_type": "code",
   "execution_count": 47,
   "id": "41383b27-3bea-4fc8-a471-864aebd8c3be",
   "metadata": {},
   "outputs": [
    {
     "data": {
      "text/plain": [
       "3-element Vector{Int64}:\n",
       "  2\n",
       "  6\n",
       " 10"
      ]
     },
     "execution_count": 47,
     "metadata": {},
     "output_type": "execute_result"
    }
   ],
   "source": [
    "A[:, 2]"
   ]
  },
  {
   "cell_type": "code",
   "execution_count": 48,
   "id": "3066ad3d-9369-41e5-b371-13bef04a42de",
   "metadata": {},
   "outputs": [
    {
     "data": {
      "text/plain": [
       "3×4 Matrix{Int64}:\n",
       " 1   2   3   4\n",
       " 5   6   7   8\n",
       " 9  10  11  12"
      ]
     },
     "execution_count": 48,
     "metadata": {},
     "output_type": "execute_result"
    }
   ],
   "source": [
    "A[:, :]"
   ]
  },
  {
   "cell_type": "code",
   "execution_count": 50,
   "id": "f21dc7bb-a47f-46ae-b44d-807cb948497c",
   "metadata": {},
   "outputs": [
    {
     "data": {
      "text/plain": [
       "1-element Vector{UnitRange{Int64}}:\n",
       " 1:10"
      ]
     },
     "execution_count": 50,
     "metadata": {},
     "output_type": "execute_result"
    }
   ],
   "source": [
    "v1 = [1:10]"
   ]
  },
  {
   "cell_type": "code",
   "execution_count": 51,
   "id": "79a76984-577e-49f0-a3fe-fe05c643e053",
   "metadata": {},
   "outputs": [
    {
     "data": {
      "text/plain": [
       "10-element Vector{Int64}:\n",
       "  1\n",
       "  2\n",
       "  3\n",
       "  4\n",
       "  5\n",
       "  6\n",
       "  7\n",
       "  8\n",
       "  9\n",
       " 10"
      ]
     },
     "execution_count": 51,
     "metadata": {},
     "output_type": "execute_result"
    }
   ],
   "source": [
    "v2 = collect(1:10)"
   ]
  },
  {
   "cell_type": "code",
   "execution_count": 52,
   "id": "f3f21dfc-a2ba-4404-9875-eef40e539b3f",
   "metadata": {},
   "outputs": [
    {
     "data": {
      "text/plain": [
       "Vector{UnitRange{Int64}} (alias for Array{UnitRange{Int64}, 1})"
      ]
     },
     "execution_count": 52,
     "metadata": {},
     "output_type": "execute_result"
    }
   ],
   "source": [
    "typeof(v1)"
   ]
  },
  {
   "cell_type": "code",
   "execution_count": 53,
   "id": "ce0421bb-5fcf-4180-8d02-1ca949332585",
   "metadata": {},
   "outputs": [
    {
     "data": {
      "text/plain": [
       "Vector{Int64} (alias for Array{Int64, 1})"
      ]
     },
     "execution_count": 53,
     "metadata": {},
     "output_type": "execute_result"
    }
   ],
   "source": [
    "typeof(v2)"
   ]
  },
  {
   "cell_type": "code",
   "execution_count": 54,
   "id": "a578863f-8432-47ad-a5a0-6527e537dfa7",
   "metadata": {},
   "outputs": [
    {
     "ename": "LoadError",
     "evalue": "BoundsError: attempt to access 1-element Vector{UnitRange{Int64}} at index [2:3]",
     "output_type": "error",
     "traceback": [
      "BoundsError: attempt to access 1-element Vector{UnitRange{Int64}} at index [2:3]",
      "",
      "Stacktrace:",
      " [1] throw_boundserror(A::Vector{UnitRange{Int64}}, I::Tuple{UnitRange{Int64}})",
      "   @ Base .\\abstractarray.jl:691",
      " [2] checkbounds",
      "   @ .\\abstractarray.jl:656 [inlined]",
      " [3] getindex(A::Vector{UnitRange{Int64}}, I::UnitRange{Int64})",
      "   @ Base .\\array.jl:867",
      " [4] top-level scope",
      "   @ In[54]:1",
      " [5] eval",
      "   @ .\\boot.jl:373 [inlined]",
      " [6] include_string(mapexpr::typeof(REPL.softscope), mod::Module, code::String, filename::String)",
      "   @ Base .\\loading.jl:1196"
     ]
    }
   ],
   "source": [
    "v1[2:3]"
   ]
  },
  {
   "cell_type": "code",
   "execution_count": 55,
   "id": "1b198d34-6ce0-405c-b431-e401dd60b0dd",
   "metadata": {},
   "outputs": [
    {
     "data": {
      "text/plain": [
       "2-element Vector{Int64}:\n",
       " 2\n",
       " 3"
      ]
     },
     "execution_count": 55,
     "metadata": {},
     "output_type": "execute_result"
    }
   ],
   "source": [
    "v2[2:3]"
   ]
  },
  {
   "cell_type": "code",
   "execution_count": 57,
   "id": "57ace182-b888-43bc-bfa3-9570e2490c0d",
   "metadata": {},
   "outputs": [
    {
     "data": {
      "text/plain": [
       "10-element Vector{Int64}:\n",
       "  10\n",
       "  20\n",
       "  30\n",
       "  40\n",
       "  50\n",
       "  60\n",
       "  70\n",
       "  80\n",
       "  90\n",
       " 100"
      ]
     },
     "execution_count": 57,
     "metadata": {},
     "output_type": "execute_result"
    }
   ],
   "source": [
    "# list comprehension도 가능함.\n",
    "[x * 10 for x in 1:10]"
   ]
  },
  {
   "cell_type": "markdown",
   "id": "b25170e9-df6d-4a3e-aff6-5bd73abb48c6",
   "metadata": {},
   "source": [
    "## 라이브러리 기반 자료형"
   ]
  },
  {
   "cell_type": "code",
   "execution_count": 59,
   "id": "bc9a5edb-1534-48d4-8e67-c2ca48cba63d",
   "metadata": {},
   "outputs": [],
   "source": [
    "using SparseArrays"
   ]
  },
  {
   "cell_type": "code",
   "execution_count": 60,
   "id": "785c3297-a79f-4b16-9ce5-7d87b2765641",
   "metadata": {},
   "outputs": [
    {
     "data": {
      "text/plain": [
       "SparseVector"
      ]
     },
     "execution_count": 60,
     "metadata": {},
     "output_type": "execute_result"
    }
   ],
   "source": [
    "SparseVector"
   ]
  },
  {
   "cell_type": "code",
   "execution_count": 61,
   "id": "327b5431-d3b7-45f0-9c34-edaad6c083e3",
   "metadata": {},
   "outputs": [
    {
     "data": {
      "text/plain": [
       "true"
      ]
     },
     "execution_count": 61,
     "metadata": {},
     "output_type": "execute_result"
    }
   ],
   "source": [
    "SparseVector <: AbstractVector"
   ]
  },
  {
   "cell_type": "code",
   "execution_count": 62,
   "id": "5633a235-a100-467d-a7fa-08bf4d3f77ac",
   "metadata": {},
   "outputs": [
    {
     "data": {
      "text/plain": [
       "false"
      ]
     },
     "execution_count": 62,
     "metadata": {},
     "output_type": "execute_result"
    }
   ],
   "source": [
    "Vector <: SparseVector"
   ]
  },
  {
   "cell_type": "code",
   "execution_count": 63,
   "id": "c86582ac-ebec-4ba2-8b0e-9eb7d6679fa8",
   "metadata": {},
   "outputs": [
    {
     "data": {
      "text/plain": [
       "true"
      ]
     },
     "execution_count": 63,
     "metadata": {},
     "output_type": "execute_result"
    }
   ],
   "source": [
    "Vector <: AbstractVector"
   ]
  },
  {
   "cell_type": "markdown",
   "id": "bc644d41-0f26-489d-ad96-014824873f25",
   "metadata": {},
   "source": [
    "## Unicode"
   ]
  },
  {
   "cell_type": "code",
   "execution_count": 66,
   "id": "b3775427-14f8-4f76-ba37-b726533264d5",
   "metadata": {},
   "outputs": [
    {
     "data": {
      "text/plain": [
       "10"
      ]
     },
     "execution_count": 66,
     "metadata": {},
     "output_type": "execute_result"
    }
   ],
   "source": [
    "α = 10"
   ]
  },
  {
   "cell_type": "code",
   "execution_count": 67,
   "id": "e58ad156-6f36-4fed-8e0e-0888937c13a9",
   "metadata": {},
   "outputs": [
    {
     "data": {
      "text/plain": [
       "20"
      ]
     },
     "execution_count": 67,
     "metadata": {},
     "output_type": "execute_result"
    }
   ],
   "source": [
    "β = 20"
   ]
  },
  {
   "cell_type": "code",
   "execution_count": 68,
   "id": "665a023f-fd93-4771-ac3b-f5488a26fac3",
   "metadata": {},
   "outputs": [
    {
     "data": {
      "text/plain": [
       "30"
      ]
     },
     "execution_count": 68,
     "metadata": {},
     "output_type": "execute_result"
    }
   ],
   "source": [
    "α + β"
   ]
  },
  {
   "cell_type": "code",
   "execution_count": 70,
   "id": "8f5051a8-8a3c-494b-8ab2-8b7acf18c596",
   "metadata": {},
   "outputs": [
    {
     "name": "stdout",
     "output_type": "stream",
     "text": [
      "🍎"
     ]
    }
   ],
   "source": [
    "print(\"🍎\")"
   ]
  },
  {
   "cell_type": "code",
   "execution_count": 3,
   "id": "86c0a774-21c0-444a-a4f5-e519e309f551",
   "metadata": {},
   "outputs": [
    {
     "data": {
      "text/plain": [
       "10"
      ]
     },
     "execution_count": 3,
     "metadata": {},
     "output_type": "execute_result"
    }
   ],
   "source": [
    "🍎 = 10"
   ]
  },
  {
   "cell_type": "code",
   "execution_count": 4,
   "id": "74a93048-99d4-47d3-beed-c16940f5a250",
   "metadata": {},
   "outputs": [
    {
     "data": {
      "text/plain": [
       "20"
      ]
     },
     "execution_count": 4,
     "metadata": {},
     "output_type": "execute_result"
    }
   ],
   "source": [
    "🍌 = 20"
   ]
  },
  {
   "cell_type": "code",
   "execution_count": 5,
   "id": "468acb90-4ef0-447c-8dec-85053faefe8d",
   "metadata": {},
   "outputs": [
    {
     "data": {
      "text/plain": [
       "40"
      ]
     },
     "execution_count": 5,
     "metadata": {},
     "output_type": "execute_result"
    }
   ],
   "source": [
    "🍉 = 40"
   ]
  },
  {
   "cell_type": "code",
   "execution_count": 6,
   "id": "d4160927-1ca7-46b1-8b8b-a6860e271190",
   "metadata": {},
   "outputs": [
    {
     "name": "stdout",
     "output_type": "stream",
     "text": [
      "[10, 20, 40]"
     ]
    }
   ],
   "source": [
    "fruits = [🍎, 🍌, 🍉]\n",
    "\n",
    "print(fruits)"
   ]
  },
  {
   "cell_type": "code",
   "execution_count": 75,
   "id": "00603573-3503-4c31-9d61-f969264a59da",
   "metadata": {},
   "outputs": [
    {
     "data": {
      "text/plain": [
       "3-element Vector{Int64}:\n",
       " 20\n",
       " 30\n",
       " 50"
      ]
     },
     "execution_count": 75,
     "metadata": {},
     "output_type": "execute_result"
    }
   ],
   "source": [
    "[fruit + 10 for fruit in fruits]"
   ]
  },
  {
   "cell_type": "code",
   "execution_count": 108,
   "id": "ad199378-af34-49b2-a407-08309b622c7e",
   "metadata": {},
   "outputs": [
    {
     "name": "stdout",
     "output_type": "stream",
     "text": [
      "101"
     ]
    }
   ],
   "source": [
    "나 = 10\n",
    "너 = 나 ^2 + 1\n",
    "\n",
    "print(너)"
   ]
  },
  {
   "cell_type": "code",
   "execution_count": 109,
   "id": "e66d042f-89e7-4ff5-bad7-8c79dd012888",
   "metadata": {},
   "outputs": [
    {
     "data": {
      "text/plain": [
       "2-element Vector{Int64}:\n",
       "  10\n",
       " 101"
      ]
     },
     "execution_count": 109,
     "metadata": {},
     "output_type": "execute_result"
    }
   ],
   "source": [
    "우리 = [나, 너]"
   ]
  },
  {
   "cell_type": "markdown",
   "id": "f21d40d3-afdc-40e1-84d2-49f9912e2768",
   "metadata": {},
   "source": [
    "### 객체 Overwrite\n",
    "- 생성된 객체는 지워지지 않는다. 다만 `nothing` 선언을 통해 사라질 뿐이다.(Null로 overwriting 됨.)"
   ]
  },
  {
   "cell_type": "code",
   "execution_count": 71,
   "id": "ceb38ae1-96d5-443d-bff9-6b1d2d1c063b",
   "metadata": {},
   "outputs": [
    {
     "data": {
      "text/plain": [
       "\"피카피카피카츄\""
      ]
     },
     "execution_count": 71,
     "metadata": {},
     "output_type": "execute_result"
    }
   ],
   "source": [
    "a = \"피카피카피카츄\""
   ]
  },
  {
   "cell_type": "code",
   "execution_count": 72,
   "id": "3791eed0-9cf4-4967-8c51-e4606e67cba0",
   "metadata": {},
   "outputs": [
    {
     "name": "stdout",
     "output_type": "stream",
     "text": [
      "피카피카피카츄\n"
     ]
    }
   ],
   "source": [
    "println(a)"
   ]
  },
  {
   "cell_type": "code",
   "execution_count": 73,
   "id": "1198cb0f-7af8-427d-b79e-597eb8b21af6",
   "metadata": {},
   "outputs": [],
   "source": [
    "a = nothing"
   ]
  },
  {
   "cell_type": "code",
   "execution_count": 74,
   "id": "e815c966-4061-46bd-b7b9-0af1931c1486",
   "metadata": {},
   "outputs": [],
   "source": [
    "a"
   ]
  },
  {
   "cell_type": "code",
   "execution_count": 75,
   "id": "173244e2-f00a-469f-a6c8-f95813a9dde0",
   "metadata": {},
   "outputs": [
    {
     "name": "stdout",
     "output_type": "stream",
     "text": [
      "nothing\n"
     ]
    }
   ],
   "source": [
    "println(a)"
   ]
  },
  {
   "cell_type": "markdown",
   "id": "39514704-0046-4823-866c-33082a63ec75",
   "metadata": {},
   "source": [
    "# 반복문 & 함수\n",
    "- 반복문 & 함수 선언에 파이썬과 같은 tilt나 ':'는 필요 없다. 대신 함수나 반복문이 정의된 후 `end` 표시를 해주어야 한다.\n",
    "- 파이썬 `lambda`와 같이 간단한 함수 선언도 가능하다."
   ]
  },
  {
   "cell_type": "markdown",
   "id": "ce40279b-5872-4e29-8a17-f5602b7be2b2",
   "metadata": {},
   "source": [
    "## 반복문"
   ]
  },
  {
   "cell_type": "code",
   "execution_count": 10,
   "id": "146c3217-f318-40af-b631-8c025b94dd30",
   "metadata": {},
   "outputs": [
    {
     "name": "stdout",
     "output_type": "stream",
     "text": [
      "10\n",
      "20\n",
      "40\n"
     ]
    }
   ],
   "source": [
    "for i in fruits\n",
    "    println(i)\n",
    "end"
   ]
  },
  {
   "cell_type": "code",
   "execution_count": 12,
   "id": "2f838905-9389-4a22-b538-f875ed9594f7",
   "metadata": {},
   "outputs": [
    {
     "name": "stdout",
     "output_type": "stream",
     "text": [
      "10\n",
      "20\n",
      "40\n"
     ]
    }
   ],
   "source": [
    "for i in fruits println(i) end"
   ]
  },
  {
   "cell_type": "code",
   "execution_count": 18,
   "id": "044f2a2f-34bb-4a91-b099-9bf01cc5f2fe",
   "metadata": {},
   "outputs": [
    {
     "name": "stdout",
     "output_type": "stream",
     "text": [
      "1\n",
      "3\n",
      "5\n",
      "7\n",
      "9\n"
     ]
    }
   ],
   "source": [
    "Γ = collect(1:2:10)\n",
    "for γ in Γ println(γ) end"
   ]
  },
  {
   "cell_type": "markdown",
   "id": "30b79b70-5a38-4dd5-aa84-043c86fb0ad6",
   "metadata": {},
   "source": [
    "## 함수\n",
    "- `default` 값이나 `option`을 지정할 수 있음.\n",
    "- 파이썬 `lambda` 함수와 같이 anonymous 함수도 사용 가능"
   ]
  },
  {
   "cell_type": "code",
   "execution_count": 19,
   "id": "e7af72e4-8798-4bf4-86af-29dacae4d143",
   "metadata": {},
   "outputs": [
    {
     "data": {
      "text/plain": [
       "f (generic function with 1 method)"
      ]
     },
     "execution_count": 19,
     "metadata": {},
     "output_type": "execute_result"
    }
   ],
   "source": [
    "## 기본꼴\n",
    "function f(x) \n",
    "    return x^2 + 10\n",
    "end "
   ]
  },
  {
   "cell_type": "code",
   "execution_count": 13,
   "id": "a7425155-964e-49c6-aa14-5bc736bdfae3",
   "metadata": {},
   "outputs": [
    {
     "data": {
      "text/plain": [
       "#4 (generic function with 1 method)"
      ]
     },
     "execution_count": 13,
     "metadata": {},
     "output_type": "execute_result"
    }
   ],
   "source": [
    "## 약식 버전 - 파이썬 람다와 동일\n",
    "w = x -> x^2"
   ]
  },
  {
   "cell_type": "code",
   "execution_count": 22,
   "id": "f9f47e34-8e60-403f-93ee-96f5a562a03a",
   "metadata": {},
   "outputs": [
    {
     "data": {
      "text/plain": [
       "14"
      ]
     },
     "execution_count": 22,
     "metadata": {},
     "output_type": "execute_result"
    }
   ],
   "source": [
    "f(2)"
   ]
  },
  {
   "cell_type": "code",
   "execution_count": 23,
   "id": "3a3b0965-d7a9-47e7-bfa8-d41fa7e423fd",
   "metadata": {},
   "outputs": [
    {
     "data": {
      "text/plain": [
       "110"
      ]
     },
     "execution_count": 23,
     "metadata": {},
     "output_type": "execute_result"
    }
   ],
   "source": [
    "f(10)"
   ]
  },
  {
   "cell_type": "code",
   "execution_count": 14,
   "id": "bf65b7f0-50f9-49c4-bce4-22ef091229f1",
   "metadata": {},
   "outputs": [
    {
     "data": {
      "text/plain": [
       "16"
      ]
     },
     "execution_count": 14,
     "metadata": {},
     "output_type": "execute_result"
    }
   ],
   "source": [
    "w(4)"
   ]
  },
  {
   "cell_type": "code",
   "execution_count": 24,
   "id": "a52a1dd7-fdfe-4aec-a539-8e272df25b89",
   "metadata": {},
   "outputs": [
    {
     "data": {
      "text/plain": [
       "g (generic function with 1 method)"
      ]
     },
     "execution_count": 24,
     "metadata": {},
     "output_type": "execute_result"
    }
   ],
   "source": [
    "## 간단한 꼴 with 유니코드\n",
    "g(χ, λ) = χ^2 + λ"
   ]
  },
  {
   "cell_type": "code",
   "execution_count": 26,
   "id": "efdfdbf7-0d91-4069-9668-a8e9ad5f0a6c",
   "metadata": {},
   "outputs": [
    {
     "data": {
      "text/plain": [
       "104"
      ]
     },
     "execution_count": 26,
     "metadata": {},
     "output_type": "execute_result"
    }
   ],
   "source": [
    "g(10, 4)"
   ]
  },
  {
   "cell_type": "code",
   "execution_count": 29,
   "id": "fc718f04-135e-467b-9651-36778b3c7523",
   "metadata": {},
   "outputs": [
    {
     "data": {
      "text/plain": [
       "h (generic function with 1 method)"
      ]
     },
     "execution_count": 29,
     "metadata": {},
     "output_type": "execute_result"
    }
   ],
   "source": [
    "## 인자를 미리 지정하는 것도 가능하나 결국 맨 마지막으로 지정된 인자들을 따름.\n",
    "function h(x) \n",
    "    x = 10; y = 20\n",
    "    return x + y end"
   ]
  },
  {
   "cell_type": "code",
   "execution_count": 30,
   "id": "317d60ca-1167-42cc-b885-bae118500df8",
   "metadata": {},
   "outputs": [
    {
     "data": {
      "text/plain": [
       "30"
      ]
     },
     "execution_count": 30,
     "metadata": {},
     "output_type": "execute_result"
    }
   ],
   "source": [
    "h(1000)"
   ]
  },
  {
   "cell_type": "code",
   "execution_count": 35,
   "id": "ce569943-15a2-44b0-8822-9f3ae0089f43",
   "metadata": {},
   "outputs": [
    {
     "data": {
      "text/plain": [
       "foo (generic function with 2 methods)"
      ]
     },
     "execution_count": 35,
     "metadata": {},
     "output_type": "execute_result"
    }
   ],
   "source": [
    "## 함수에 default 및 option 지정\n",
    "function foo(x, y = 10; option = false)\n",
    "    if option \n",
    "        return x + y\n",
    "    else return x * y\n",
    "    end \n",
    "end"
   ]
  },
  {
   "cell_type": "code",
   "execution_count": 36,
   "id": "40018d19-0378-4bb3-a580-090190141d93",
   "metadata": {},
   "outputs": [
    {
     "data": {
      "text/plain": [
       "10"
      ]
     },
     "execution_count": 36,
     "metadata": {},
     "output_type": "execute_result"
    }
   ],
   "source": [
    "foo(1)"
   ]
  },
  {
   "cell_type": "code",
   "execution_count": 37,
   "id": "1c426d1d-5e55-450b-bff4-d4b6044b65fb",
   "metadata": {},
   "outputs": [
    {
     "data": {
      "text/plain": [
       "20"
      ]
     },
     "execution_count": 37,
     "metadata": {},
     "output_type": "execute_result"
    }
   ],
   "source": [
    "foo(1, 20)"
   ]
  },
  {
   "cell_type": "code",
   "execution_count": 39,
   "id": "6aaf4ae3-76c5-4647-899a-20244f82b43c",
   "metadata": {},
   "outputs": [
    {
     "data": {
      "text/plain": [
       "11"
      ]
     },
     "execution_count": 39,
     "metadata": {},
     "output_type": "execute_result"
    }
   ],
   "source": [
    "foo(1; option =b true)"
   ]
  },
  {
   "cell_type": "code",
   "execution_count": 41,
   "id": "6aa4b78f-7e0d-4d3c-b5aa-cc6ad4ad8e2d",
   "metadata": {},
   "outputs": [
    {
     "data": {
      "text/plain": [
       "31"
      ]
     },
     "execution_count": 41,
     "metadata": {},
     "output_type": "execute_result"
    }
   ],
   "source": [
    "foo(1, 30; option = true)"
   ]
  },
  {
   "cell_type": "markdown",
   "id": "11d4ab93-2022-46ec-a9a2-cd37a366aa2d",
   "metadata": {},
   "source": [
    "### 난수 생성 함수\n",
    "- rand : 0~1 사이의 난수 생성\n",
    "- randn : 표준정규분포를 따르는 난수 생성"
   ]
  },
  {
   "cell_type": "code",
   "execution_count": 25,
   "id": "8005ecbc-c007-4593-b566-d034c0d9a27a",
   "metadata": {},
   "outputs": [
    {
     "data": {
      "text/plain": [
       "10-element Vector{Float64}:\n",
       " 0.47887347719263695\n",
       " 0.910502969745407\n",
       " 0.41803381873429124\n",
       " 0.1827080935239247\n",
       " 0.6793633247577533\n",
       " 0.6261948065311248\n",
       " 0.9611382516429703\n",
       " 0.11360952825824455\n",
       " 0.8018308330835683\n",
       " 0.7089501541700931"
      ]
     },
     "execution_count": 25,
     "metadata": {},
     "output_type": "execute_result"
    }
   ],
   "source": [
    "rand(10) # 난수 벡터 생성"
   ]
  },
  {
   "cell_type": "code",
   "execution_count": 26,
   "id": "b8a86635-d5cd-48af-b2dd-c0953785257f",
   "metadata": {},
   "outputs": [
    {
     "data": {
      "text/plain": [
       "3×5 Matrix{Float64}:\n",
       " 0.835911   0.137173  0.888348   0.660385  0.0923315\n",
       " 0.0186281  0.680724  0.0232871  0.762753  0.146117\n",
       " 0.058829   0.502016  0.0500914  0.476066  0.0703261"
      ]
     },
     "execution_count": 26,
     "metadata": {},
     "output_type": "execute_result"
    }
   ],
   "source": [
    "rand(3, 5) # 난수행렬 생성"
   ]
  },
  {
   "cell_type": "code",
   "execution_count": 27,
   "id": "8aa985c6-6ca4-4e93-a193-23a7192e71d7",
   "metadata": {},
   "outputs": [
    {
     "data": {
      "text/plain": [
       "2×3 Matrix{Float64}:\n",
       " 0.660875  0.0919946  0.877365\n",
       " 0.134109  0.879008   2.06859"
      ]
     },
     "execution_count": 27,
     "metadata": {},
     "output_type": "execute_result"
    }
   ],
   "source": [
    "randn(2, 3) # 표준정규분포를 따르는 난수 행렬 생성"
   ]
  },
  {
   "cell_type": "code",
   "execution_count": 28,
   "id": "f4334f96-7d16-469b-9551-8e02b5e0613d",
   "metadata": {},
   "outputs": [
    {
     "data": {
      "text/plain": [
       "5-element Vector{Int64}:\n",
       " 1\n",
       " 4\n",
       " 7\n",
       " 7\n",
       " 7"
      ]
     },
     "execution_count": 28,
     "metadata": {},
     "output_type": "execute_result"
    }
   ],
   "source": [
    "rand(1:10, 5) # 1~10 사이의 정수에서 5개를 추출(복원 추출)"
   ]
  },
  {
   "cell_type": "code",
   "execution_count": 29,
   "id": "75cfd34d-172f-48af-9142-e7e62869e8b8",
   "metadata": {},
   "outputs": [
    {
     "data": {
      "text/plain": [
       "5-element Vector{Int64}:\n",
       "  6650968109417574407\n",
       "  6717642747818691321\n",
       "  5092986142584634289\n",
       " -3607570829489740792\n",
       " -7396580563722553477"
      ]
     },
     "execution_count": 29,
     "metadata": {},
     "output_type": "execute_result"
    }
   ],
   "source": [
    "rand(Int, 5) # 정수 공간에서 5개의 난수 생성"
   ]
  },
  {
   "cell_type": "markdown",
   "id": "e380ae97-8e95-45c7-853c-c0fc7ba8e222",
   "metadata": {},
   "source": [
    "## 패키지 설치 방법\n",
    "- 줄리아 REPL에서는 ']'을 통해 패키지 설치 모드로 전환하여 `add + 라이브러리명`을 통해 라이브러리를 설치할 수 있다.\n",
    "  (ex - add Pkg)\n",
    "- 아니면 `Pkg` 패키지만 설치한 뒤, `Pkg.add` 함수를 통해 주피터 환경에서도 설치를 할 수 있다.(속도는 느린 듯)\n",
    "\n",
    "- Tips : 줄리아 REPL에서는 아래와 같은 키를 누르면 각각 다른 CLI(Command-Line Interface)로 진입한다. `Backspace`를 누르면 다시 Julia CLI로 진입한다.\n",
    "    - `]` : 패키지 설치 CLI\n",
    "    - `?` : 도움말 CLI\n",
    "    - `;` : Shell CLI"
   ]
  },
  {
   "cell_type": "markdown",
   "id": "7a2f82d6-1fc4-4b2c-ad33-a93277b42942",
   "metadata": {},
   "source": [
    "### 미분 : `Calculus` & `ForwardDiff`의 `derivative`"
   ]
  },
  {
   "cell_type": "code",
   "execution_count": 1,
   "id": "20e4f62c-84a1-4c20-b32c-581cae0a917c",
   "metadata": {},
   "outputs": [],
   "source": [
    "using Calculus # 미분 관련 연산 라이브러리"
   ]
  },
  {
   "cell_type": "code",
   "execution_count": 2,
   "id": "2645d6fe-4083-4bcd-b32b-025d38241510",
   "metadata": {},
   "outputs": [
    {
     "data": {
      "text/plain": [
       "f (generic function with 1 method)"
      ]
     },
     "execution_count": 2,
     "metadata": {},
     "output_type": "execute_result"
    }
   ],
   "source": [
    "f(x) = x^2 + 10"
   ]
  },
  {
   "cell_type": "code",
   "execution_count": 4,
   "id": "2fb0b280-352b-4e98-b3cb-45ae8b1b5e86",
   "metadata": {},
   "outputs": [
    {
     "data": {
      "text/plain": [
       "#1 (generic function with 1 method)"
      ]
     },
     "execution_count": 4,
     "metadata": {},
     "output_type": "execute_result"
    }
   ],
   "source": [
    "df = Calculus.derivative(f)"
   ]
  },
  {
   "cell_type": "code",
   "execution_count": 5,
   "id": "e22d42a3-ee18-4bf1-bd1b-e3c0d26abbb9",
   "metadata": {},
   "outputs": [
    {
     "data": {
      "text/plain": [
       "1.9999999999004336"
      ]
     },
     "execution_count": 5,
     "metadata": {},
     "output_type": "execute_result"
    }
   ],
   "source": [
    "df(1)"
   ]
  },
  {
   "cell_type": "code",
   "execution_count": 7,
   "id": "bc693df5-d79f-4c52-959c-1d3af2588be1",
   "metadata": {},
   "outputs": [
    {
     "name": "stderr",
     "output_type": "stream",
     "text": [
      "\u001b[32m\u001b[1m    Updating\u001b[22m\u001b[39m registry at `C:\\Users\\User\\.julia\\registries\\General.toml`\n",
      "\u001b[32m\u001b[1m   Resolving\u001b[22m\u001b[39m package versions...\n",
      "\u001b[32m\u001b[1m   Installed\u001b[22m\u001b[39m IrrationalConstants ── v0.1.1\n",
      "\u001b[32m\u001b[1m   Installed\u001b[22m\u001b[39m NaNMath ────────────── v1.0.0\n",
      "\u001b[32m\u001b[1m   Installed\u001b[22m\u001b[39m DiffRules ──────────── v1.11.0\n",
      "\u001b[32m\u001b[1m   Installed\u001b[22m\u001b[39m DiffResults ────────── v1.0.3\n",
      "\u001b[32m\u001b[1m   Installed\u001b[22m\u001b[39m SpecialFunctions ───── v2.1.5\n",
      "\u001b[32m\u001b[1m   Installed\u001b[22m\u001b[39m StaticArrays ───────── v1.4.4\n",
      "\u001b[32m\u001b[1m   Installed\u001b[22m\u001b[39m ForwardDiff ────────── v0.10.30\n",
      "\u001b[32m\u001b[1m   Installed\u001b[22m\u001b[39m ChainRulesCore ─────── v1.15.0\n",
      "\u001b[32m\u001b[1m   Installed\u001b[22m\u001b[39m OpenSpecFun_jll ────── v0.5.5+0\n",
      "\u001b[32m\u001b[1m   Installed\u001b[22m\u001b[39m CommonSubexpressions ─ v0.3.0\n",
      "\u001b[32m\u001b[1m   Installed\u001b[22m\u001b[39m LogExpFunctions ────── v0.3.15\n",
      "\u001b[32m\u001b[1m   Installed\u001b[22m\u001b[39m InverseFunctions ───── v0.1.4\n",
      "\u001b[32m\u001b[1m   Installed\u001b[22m\u001b[39m ChangesOfVariables ─── v0.1.3\n",
      "\u001b[32m\u001b[1m    Updating\u001b[22m\u001b[39m `C:\\Users\\User\\.julia\\environments\\v1.7\\Project.toml`\n",
      " \u001b[90m [f6369f11] \u001b[39m\u001b[92m+ ForwardDiff v0.10.30\u001b[39m\n",
      "\u001b[32m\u001b[1m    Updating\u001b[22m\u001b[39m `C:\\Users\\User\\.julia\\environments\\v1.7\\Manifest.toml`\n",
      " \u001b[90m [d360d2e6] \u001b[39m\u001b[92m+ ChainRulesCore v1.15.0\u001b[39m\n",
      " \u001b[90m [9e997f8a] \u001b[39m\u001b[92m+ ChangesOfVariables v0.1.3\u001b[39m\n",
      " \u001b[90m [bbf7d656] \u001b[39m\u001b[92m+ CommonSubexpressions v0.3.0\u001b[39m\n",
      " \u001b[90m [163ba53b] \u001b[39m\u001b[92m+ DiffResults v1.0.3\u001b[39m\n",
      " \u001b[90m [b552c78f] \u001b[39m\u001b[92m+ DiffRules v1.11.0\u001b[39m\n",
      " \u001b[90m [f6369f11] \u001b[39m\u001b[92m+ ForwardDiff v0.10.30\u001b[39m\n",
      " \u001b[90m [3587e190] \u001b[39m\u001b[92m+ InverseFunctions v0.1.4\u001b[39m\n",
      " \u001b[90m [92d709cd] \u001b[39m\u001b[92m+ IrrationalConstants v0.1.1\u001b[39m\n",
      " \u001b[90m [2ab3a3ac] \u001b[39m\u001b[92m+ LogExpFunctions v0.3.15\u001b[39m\n",
      " \u001b[90m [77ba4419] \u001b[39m\u001b[92m+ NaNMath v1.0.0\u001b[39m\n",
      " \u001b[90m [276daf66] \u001b[39m\u001b[92m+ SpecialFunctions v2.1.5\u001b[39m\n",
      " \u001b[90m [90137ffa] \u001b[39m\u001b[92m+ StaticArrays v1.4.4\u001b[39m\n",
      " \u001b[90m [efe28fd5] \u001b[39m\u001b[92m+ OpenSpecFun_jll v0.5.5+0\u001b[39m\n",
      " \u001b[90m [05823500] \u001b[39m\u001b[92m+ OpenLibm_jll\u001b[39m\n",
      "\u001b[32m\u001b[1mPrecompiling\u001b[22m\u001b[39m project...\n",
      "\u001b[32m  ✓ \u001b[39m\u001b[90mOpenLibm_jll\u001b[39m\n",
      "\u001b[32m  ✓ \u001b[39m\u001b[90mNaNMath\u001b[39m\n",
      "\u001b[32m  ✓ \u001b[39m\u001b[90mIrrationalConstants\u001b[39m\n",
      "\u001b[32m  ✓ \u001b[39m\u001b[90mInverseFunctions\u001b[39m\n",
      "\u001b[32m  ✓ \u001b[39m\u001b[90mCommonSubexpressions\u001b[39m\n",
      "\u001b[32m  ✓ \u001b[39m\u001b[90mOpenSpecFun_jll\u001b[39m\n",
      "\u001b[32m  ✓ \u001b[39m\u001b[90mChainRulesCore\u001b[39m\n",
      "\u001b[32m  ✓ \u001b[39m\u001b[90mChangesOfVariables\u001b[39m\n",
      "\u001b[32m  ✓ \u001b[39m\u001b[90mLogExpFunctions\u001b[39m\n",
      "\u001b[32m  ✓ \u001b[39m\u001b[90mStaticArrays\u001b[39m\n",
      "\u001b[32m  ✓ \u001b[39m\u001b[90mDiffResults\u001b[39m\n",
      "\u001b[32m  ✓ \u001b[39m\u001b[90mSpecialFunctions\u001b[39m\n",
      "\u001b[32m  ✓ \u001b[39m\u001b[90mDiffRules\u001b[39m\n",
      "\u001b[32m  ✓ \u001b[39mForwardDiff\n",
      "  14 dependencies successfully precompiled in 69 seconds (67 already precompiled)\n"
     ]
    }
   ],
   "source": [
    "using Pkg\n",
    "Pkg.add(\"ForwardDiff\")"
   ]
  },
  {
   "cell_type": "code",
   "execution_count": 9,
   "id": "c8dcc727-14d5-4a6f-a4fb-06fdf53cea9e",
   "metadata": {},
   "outputs": [],
   "source": [
    "using ForwardDiff"
   ]
  },
  {
   "cell_type": "code",
   "execution_count": 15,
   "id": "4ffcad61-629f-46e7-bb88-b1c6cdda53e0",
   "metadata": {},
   "outputs": [
    {
     "data": {
      "text/plain": [
       "2"
      ]
     },
     "execution_count": 15,
     "metadata": {},
     "output_type": "execute_result"
    }
   ],
   "source": [
    "ForwardDiff.derivative(w, 1)"
   ]
  },
  {
   "cell_type": "code",
   "execution_count": 23,
   "id": "26792538-20ab-4f83-9f8a-a70b9b996e18",
   "metadata": {},
   "outputs": [
    {
     "data": {
      "text/plain": [
       "#12 (generic function with 1 method)"
      ]
     },
     "execution_count": 23,
     "metadata": {},
     "output_type": "execute_result"
    }
   ],
   "source": [
    "dw = x -> ForwardDiff.derivative(w, 1)"
   ]
  },
  {
   "cell_type": "code",
   "execution_count": 24,
   "id": "71684216-98f7-4ac6-ab6a-8396fa21f1df",
   "metadata": {},
   "outputs": [
    {
     "data": {
      "text/plain": [
       "2"
      ]
     },
     "execution_count": 24,
     "metadata": {},
     "output_type": "execute_result"
    }
   ],
   "source": [
    "dw(2)"
   ]
  },
  {
   "cell_type": "markdown",
   "id": "578ca138-162a-4b9b-af5c-55e3b21a1eb6",
   "metadata": {},
   "source": [
    "### 내적 : `LinearAlgebra`의 `dot`"
   ]
  },
  {
   "cell_type": "code",
   "execution_count": 46,
   "id": "d9768d87-0e16-4b71-bb88-9db730507135",
   "metadata": {},
   "outputs": [
    {
     "name": "stderr",
     "output_type": "stream",
     "text": [
      "\u001b[32m\u001b[1m   Resolving\u001b[22m\u001b[39m package versions...\n",
      "\u001b[32m\u001b[1m    Updating\u001b[22m\u001b[39m `C:\\Users\\User\\.julia\\environments\\v1.7\\Project.toml`\n",
      " \u001b[90m [37e2e46d] \u001b[39m\u001b[92m+ LinearAlgebra\u001b[39m\n",
      "\u001b[32m\u001b[1m  No Changes\u001b[22m\u001b[39m to `C:\\Users\\User\\.julia\\environments\\v1.7\\Manifest.toml`\n"
     ]
    }
   ],
   "source": [
    "Pkg.add(\"LinearAlgebra\")"
   ]
  },
  {
   "cell_type": "code",
   "execution_count": 47,
   "id": "3d83d900-dd87-42a6-bcfa-3a03db2025c2",
   "metadata": {},
   "outputs": [
    {
     "data": {
      "text/plain": [
       "3-element Vector{Int64}:\n",
       " 4\n",
       " 5\n",
       " 6"
      ]
     },
     "execution_count": 47,
     "metadata": {},
     "output_type": "execute_result"
    }
   ],
   "source": [
    "v  = [1,2,3]\n",
    "w = [4,5,6]"
   ]
  },
  {
   "cell_type": "code",
   "execution_count": 48,
   "id": "cb7f4941-b557-48bb-b8a0-14772a8b6d5a",
   "metadata": {},
   "outputs": [],
   "source": [
    "using LinearAlgebra"
   ]
  },
  {
   "cell_type": "code",
   "execution_count": 49,
   "id": "3a40bb4f-39c5-46a9-b704-12fdddf1ee1c",
   "metadata": {},
   "outputs": [
    {
     "data": {
      "text/plain": [
       "32"
      ]
     },
     "execution_count": 49,
     "metadata": {},
     "output_type": "execute_result"
    }
   ],
   "source": [
    "dot(v,w)"
   ]
  },
  {
   "cell_type": "code",
   "execution_count": 53,
   "id": "3e88f604-1c51-4faa-8913-32a2f6cbf2a4",
   "metadata": {},
   "outputs": [
    {
     "data": {
      "text/plain": [
       "32"
      ]
     },
     "execution_count": 53,
     "metadata": {},
     "output_type": "execute_result"
    }
   ],
   "source": [
    "## 간단히 transpose해서 구할 수도 있음.\n",
    "v' * w"
   ]
  },
  {
   "cell_type": "markdown",
   "id": "316d3b50-31e8-4b2a-be4e-6d2c3f211a3e",
   "metadata": {},
   "source": [
    "# Julia의 Unique Features\n",
    "- ! (내용 추가 필요)\n",
    "- Broadcasting\n",
    "- Macros `@`\n",
    "- Multiple Dispatch\n",
    "- JIT Complier"
   ]
  },
  {
   "cell_type": "markdown",
   "id": "e72afa24-56a0-4b05-a8da-e748f656c49f",
   "metadata": {},
   "source": [
    "## `!`\n",
    "- 내용 추가 필요\n",
    "- 기존에 설정된 object를 수정할 때는 `!`를 통해 수정"
   ]
  },
  {
   "cell_type": "code",
   "execution_count": 32,
   "id": "afc539a6-e09f-4f46-ad1b-8e76578acb01",
   "metadata": {},
   "outputs": [
    {
     "data": {
      "text/plain": [
       "3-element Vector{Int64}:\n",
       " 1\n",
       " 2\n",
       " 3"
      ]
     },
     "execution_count": 32,
     "metadata": {},
     "output_type": "execute_result"
    }
   ],
   "source": [
    "V = [1,2,3]"
   ]
  },
  {
   "cell_type": "code",
   "execution_count": 35,
   "id": "0eb623dd-5374-4ca6-a6bf-4f550d3fb485",
   "metadata": {},
   "outputs": [
    {
     "data": {
      "text/plain": [
       "4-element Vector{Int64}:\n",
       " 1\n",
       " 2\n",
       " 3\n",
       " 4"
      ]
     },
     "execution_count": 35,
     "metadata": {},
     "output_type": "execute_result"
    }
   ],
   "source": [
    "push!(V, 4)"
   ]
  },
  {
   "cell_type": "code",
   "execution_count": 39,
   "id": "a9f916ee-aa6d-417f-a43c-a83bdbedd565",
   "metadata": {},
   "outputs": [
    {
     "data": {
      "text/plain": [
       "4"
      ]
     },
     "execution_count": 39,
     "metadata": {},
     "output_type": "execute_result"
    }
   ],
   "source": [
    "pop!(V)"
   ]
  },
  {
   "cell_type": "code",
   "execution_count": 44,
   "id": "11d7d734-fd97-4070-bdb2-8e867e6b8ed9",
   "metadata": {},
   "outputs": [
    {
     "data": {
      "text/plain": [
       "3-element Vector{Int64}:\n",
       " 1\n",
       " 2\n",
       " 3"
      ]
     },
     "execution_count": 44,
     "metadata": {},
     "output_type": "execute_result"
    }
   ],
   "source": [
    "V"
   ]
  },
  {
   "cell_type": "markdown",
   "id": "f608056b-0b33-4377-b635-aa055d027942",
   "metadata": {},
   "source": [
    "## Boardcasting - vector-wise 연산\n",
    "- vector-wise 연산에 활용 (python apply 함수 개념)  \n",
    "  (ex - `f.(V)` )"
   ]
  },
  {
   "cell_type": "code",
   "execution_count": 41,
   "id": "8af96118-a2aa-4d80-95fb-538f39e30147",
   "metadata": {},
   "outputs": [
    {
     "data": {
      "text/plain": [
       "f (generic function with 1 method)"
      ]
     },
     "execution_count": 41,
     "metadata": {},
     "output_type": "execute_result"
    }
   ],
   "source": [
    "f(x) = x^2 + 20"
   ]
  },
  {
   "cell_type": "code",
   "execution_count": 42,
   "id": "1b17c64a-0bed-40ac-91ed-a2d4add5a53d",
   "metadata": {},
   "outputs": [
    {
     "ename": "LoadError",
     "evalue": "MethodError: no method matching ^(::Vector{Int64}, ::Int64)\n\u001b[0mClosest candidates are:\n\u001b[0m  ^(\u001b[91m::Union{AbstractChar, AbstractString}\u001b[39m, ::Integer) at C:\\Users\\User\\AppData\\Local\\Programs\\Julia-1.7.2\\share\\julia\\base\\strings\\basic.jl:721\n\u001b[0m  ^(\u001b[91m::Rational\u001b[39m, ::Integer) at C:\\Users\\User\\AppData\\Local\\Programs\\Julia-1.7.2\\share\\julia\\base\\rational.jl:475\n\u001b[0m  ^(\u001b[91m::LinearAlgebra.Diagonal\u001b[39m, ::Integer) at C:\\Users\\User\\AppData\\Local\\Programs\\Julia-1.7.2\\share\\julia\\stdlib\\v1.7\\LinearAlgebra\\src\\diagonal.jl:196\n\u001b[0m  ...",
     "output_type": "error",
     "traceback": [
      "MethodError: no method matching ^(::Vector{Int64}, ::Int64)\n\u001b[0mClosest candidates are:\n\u001b[0m  ^(\u001b[91m::Union{AbstractChar, AbstractString}\u001b[39m, ::Integer) at C:\\Users\\User\\AppData\\Local\\Programs\\Julia-1.7.2\\share\\julia\\base\\strings\\basic.jl:721\n\u001b[0m  ^(\u001b[91m::Rational\u001b[39m, ::Integer) at C:\\Users\\User\\AppData\\Local\\Programs\\Julia-1.7.2\\share\\julia\\base\\rational.jl:475\n\u001b[0m  ^(\u001b[91m::LinearAlgebra.Diagonal\u001b[39m, ::Integer) at C:\\Users\\User\\AppData\\Local\\Programs\\Julia-1.7.2\\share\\julia\\stdlib\\v1.7\\LinearAlgebra\\src\\diagonal.jl:196\n\u001b[0m  ...",
      "",
      "Stacktrace:",
      " [1] literal_pow",
      "   @ .\\intfuncs.jl:325 [inlined]",
      " [2] f(x::Vector{Int64})",
      "   @ Main .\\In[41]:1",
      " [3] top-level scope",
      "   @ In[42]:1",
      " [4] eval",
      "   @ .\\boot.jl:373 [inlined]",
      " [5] include_string(mapexpr::typeof(REPL.softscope), mod::Module, code::String, filename::String)",
      "   @ Base .\\loading.jl:1196"
     ]
    }
   ],
   "source": [
    "f(V)"
   ]
  },
  {
   "cell_type": "code",
   "execution_count": 43,
   "id": "0b91c9db-d89e-458a-8c02-1a4de299b9c4",
   "metadata": {},
   "outputs": [
    {
     "data": {
      "text/plain": [
       "3-element Vector{Int64}:\n",
       " 21\n",
       " 24\n",
       " 29"
      ]
     },
     "execution_count": 43,
     "metadata": {},
     "output_type": "execute_result"
    }
   ],
   "source": [
    "f.(V)"
   ]
  },
  {
   "cell_type": "code",
   "execution_count": 64,
   "id": "3da1c0cf-cac1-45d3-a188-c3667412a944",
   "metadata": {},
   "outputs": [
    {
     "data": {
      "text/plain": [
       "3-element Vector{String}:\n",
       " \"add\"\n",
       " \"jasdf\"\n",
       " \"avds\""
      ]
     },
     "execution_count": 64,
     "metadata": {},
     "output_type": "execute_result"
    }
   ],
   "source": [
    "c = [\"add\", \"jasdf\", \"avds\"]"
   ]
  },
  {
   "cell_type": "code",
   "execution_count": 65,
   "id": "c7b962d5-9b1e-4725-bda3-88a5f53fcbe4",
   "metadata": {},
   "outputs": [
    {
     "data": {
      "text/plain": [
       "#14 (generic function with 1 method)"
      ]
     },
     "execution_count": 65,
     "metadata": {},
     "output_type": "execute_result"
    }
   ],
   "source": [
    "www = x -> x * \" hi, Julia\""
   ]
  },
  {
   "cell_type": "code",
   "execution_count": 66,
   "id": "ce686f20-d47f-4e23-8aea-7a925edf0486",
   "metadata": {},
   "outputs": [
    {
     "data": {
      "text/plain": [
       "3-element Vector{String}:\n",
       " \"add hi, Julia\"\n",
       " \"jasdf hi, Julia\"\n",
       " \"avds hi, Julia\""
      ]
     },
     "execution_count": 66,
     "metadata": {},
     "output_type": "execute_result"
    }
   ],
   "source": [
    "www.(c)"
   ]
  },
  {
   "cell_type": "markdown",
   "id": "c2c6efa0-6f52-442e-acc5-d42878c453d7",
   "metadata": {},
   "source": [
    "## Macros\n",
    "- Compile 전에 코드 자체를 manipulating 하고 싶을 때 사용 (R에서 `eval(parse))와 같은 개념`\n",
    "- Julia에서는 코드를 `expr`(expression)이라는 객체로 저장"
   ]
  },
  {
   "cell_type": "code",
   "execution_count": null,
   "id": "bb603cbd-ce39-495f-8965-20fbf1d71adf",
   "metadata": {},
   "outputs": [],
   "source": [
    "## 상황 : 함수에 인자로 들어간 객체명에 따라 함수 결과 값도 \"객체명 = 값\"의 형태로 출력하고 싶음."
   ]
  },
  {
   "cell_type": "code",
   "execution_count": 77,
   "id": "5f64767b-ffc2-4eee-b711-de74a54a8e8d",
   "metadata": {},
   "outputs": [
    {
     "data": {
      "text/plain": [
       "foo (generic function with 1 method)"
      ]
     },
     "execution_count": 77,
     "metadata": {},
     "output_type": "execute_result"
    }
   ],
   "source": [
    "function foo(x) \n",
    "    println(\"x = \", x)\n",
    "    end"
   ]
  },
  {
   "cell_type": "code",
   "execution_count": 78,
   "id": "8cd03b8c-33a1-4a32-9163-cde3d5f43eda",
   "metadata": {},
   "outputs": [
    {
     "data": {
      "text/plain": [
       "10"
      ]
     },
     "execution_count": 78,
     "metadata": {},
     "output_type": "execute_result"
    }
   ],
   "source": [
    "x = 10"
   ]
  },
  {
   "cell_type": "code",
   "execution_count": 79,
   "id": "116b2d07-659d-48da-97c6-90f203949d8e",
   "metadata": {},
   "outputs": [
    {
     "name": "stdout",
     "output_type": "stream",
     "text": [
      "x = 10\n"
     ]
    }
   ],
   "source": [
    "foo(x)"
   ]
  },
  {
   "cell_type": "code",
   "execution_count": 80,
   "id": "39f05de1-aa98-4756-8d0b-2514cd5c4ca1",
   "metadata": {},
   "outputs": [
    {
     "data": {
      "text/plain": [
       "20"
      ]
     },
     "execution_count": 80,
     "metadata": {},
     "output_type": "execute_result"
    }
   ],
   "source": [
    "v = 20"
   ]
  },
  {
   "cell_type": "code",
   "execution_count": 82,
   "id": "d2def97d-76d8-4d96-a4bb-459ce8978897",
   "metadata": {},
   "outputs": [
    {
     "name": "stdout",
     "output_type": "stream",
     "text": [
      "x = 20\n"
     ]
    }
   ],
   "source": [
    "foo(v) ## v = 20으로 나왔으면 함."
   ]
  },
  {
   "cell_type": "code",
   "execution_count": 84,
   "id": "f9029c01-9297-4c42-8a5f-f5b98d70135d",
   "metadata": {},
   "outputs": [
    {
     "data": {
      "text/plain": [
       ":(v = 20)"
      ]
     },
     "execution_count": 84,
     "metadata": {},
     "output_type": "execute_result"
    }
   ],
   "source": [
    "ex = :(v = 20)"
   ]
  },
  {
   "cell_type": "code",
   "execution_count": 85,
   "id": "2f550cd5-36b2-4f58-b492-a70c7e6c26cf",
   "metadata": {},
   "outputs": [
    {
     "data": {
      "text/plain": [
       "Expr"
      ]
     },
     "execution_count": 85,
     "metadata": {},
     "output_type": "execute_result"
    }
   ],
   "source": [
    "typeof(ex)"
   ]
  },
  {
   "cell_type": "code",
   "execution_count": 86,
   "id": "72590331-7970-4d2c-9fe3-c8d7a269c734",
   "metadata": {},
   "outputs": [
    {
     "data": {
      "text/plain": [
       "@bar (macro with 1 method)"
      ]
     },
     "execution_count": 86,
     "metadata": {},
     "output_type": "execute_result"
    }
   ],
   "source": [
    "macro bar(x) \n",
    "    :( println($(string(x)), \" = \", $x ) )\n",
    "    end"
   ]
  },
  {
   "cell_type": "code",
   "execution_count": 87,
   "id": "10eeb063-f31b-4864-b482-46f3e2536eea",
   "metadata": {},
   "outputs": [
    {
     "name": "stdout",
     "output_type": "stream",
     "text": [
      "v = 20\n"
     ]
    }
   ],
   "source": [
    "@bar v"
   ]
  },
  {
   "cell_type": "code",
   "execution_count": 88,
   "id": "8ac21cd1-669c-42de-b736-62788e38ec55",
   "metadata": {},
   "outputs": [
    {
     "name": "stdout",
     "output_type": "stream",
     "text": [
      "v = 20\n"
     ]
    },
    {
     "data": {
      "text/plain": [
       "20"
      ]
     },
     "execution_count": 88,
     "metadata": {},
     "output_type": "execute_result"
    }
   ],
   "source": [
    "@show v # expr의 객체명(Julia에선 symbol)과 그 값을 확인할 수 있는 대표 매크로"
   ]
  },
  {
   "cell_type": "markdown",
   "id": "c22f27fc-c9bf-4d3a-9123-85204de436d9",
   "metadata": {},
   "source": [
    "## Multiple Dispatch\n",
    "- 인자의 type을 함수에서 자동으로 인식하여 값을 반환함.\n",
    "- 인자의 type에 따라 함수를 다르게 적용 가능\n",
    "- 함수에서 선언한 자료형에 적확하게 맞지 않을 경우 가장 가까운 형태의 함수를 알아서 선택해서 값을 반환한다."
   ]
  },
  {
   "cell_type": "code",
   "execution_count": 99,
   "id": "8380bc64-fcae-4f6e-9bed-ee93f805e5c0",
   "metadata": {},
   "outputs": [
    {
     "data": {
      "text/plain": [
       "f (generic function with 3 methods)"
      ]
     },
     "execution_count": 99,
     "metadata": {},
     "output_type": "execute_result"
    }
   ],
   "source": [
    "f(x) = x^2 + 10"
   ]
  },
  {
   "cell_type": "code",
   "execution_count": 100,
   "id": "f9a361b0-507f-47b8-b650-3d39ce5464d7",
   "metadata": {},
   "outputs": [
    {
     "data": {
      "text/plain": [
       "1001"
      ]
     },
     "execution_count": 100,
     "metadata": {},
     "output_type": "execute_result"
    }
   ],
   "source": [
    "f(1)"
   ]
  },
  {
   "cell_type": "code",
   "execution_count": 101,
   "id": "afef751f-12be-4047-bacd-69f4b1fde102",
   "metadata": {},
   "outputs": [
    {
     "data": {
      "text/plain": [
       "10001.0"
      ]
     },
     "execution_count": 101,
     "metadata": {},
     "output_type": "execute_result"
    }
   ],
   "source": [
    "f(1.0)"
   ]
  },
  {
   "cell_type": "code",
   "execution_count": 94,
   "id": "f95e804f-7f79-470e-aa87-6d1b4cd65622",
   "metadata": {},
   "outputs": [
    {
     "data": {
      "text/plain": [
       "f (generic function with 3 methods)"
      ]
     },
     "execution_count": 94,
     "metadata": {},
     "output_type": "execute_result"
    }
   ],
   "source": [
    "f(x::Int) = x^2 + 1000\n",
    "f(x::Float64) = x^3 + 10000"
   ]
  },
  {
   "cell_type": "code",
   "execution_count": 95,
   "id": "70a41451-8581-48a8-b5f7-8a458efbadb6",
   "metadata": {},
   "outputs": [
    {
     "data": {
      "text/plain": [
       "1100"
      ]
     },
     "execution_count": 95,
     "metadata": {},
     "output_type": "execute_result"
    }
   ],
   "source": [
    "f(10)"
   ]
  },
  {
   "cell_type": "code",
   "execution_count": 96,
   "id": "f42ad4f6-ddb7-414f-bd21-7f9c9ac2b291",
   "metadata": {},
   "outputs": [
    {
     "data": {
      "text/plain": [
       "11000.0"
      ]
     },
     "execution_count": 96,
     "metadata": {},
     "output_type": "execute_result"
    }
   ],
   "source": [
    "f(10.0)"
   ]
  },
  {
   "cell_type": "code",
   "execution_count": 98,
   "id": "9986c32d-28c0-4818-ac72-91ca9b3b0fa1",
   "metadata": {},
   "outputs": [
    {
     "data": {
      "text/html": [
       "# 3 methods for generic function <b>f</b>:<ul><li> f(x::<b>Int64</b>) in Main at In[94]:1</li> <li> f(x::<b>Float64</b>) in Main at In[94]:2</li> <li> f(x) in Main at In[90]:1</li> </ul>"
      ],
      "text/plain": [
       "# 3 methods for generic function \"f\":\n",
       "[1] f(x::Int64) in Main at In[94]:1\n",
       "[2] f(x::Float64) in Main at In[94]:2\n",
       "[3] f(x) in Main at In[90]:1"
      ]
     },
     "execution_count": 98,
     "metadata": {},
     "output_type": "execute_result"
    }
   ],
   "source": [
    "methods(f)"
   ]
  },
  {
   "cell_type": "code",
   "execution_count": 104,
   "id": "3eba9d19-9f1d-4128-b032-9b506a0170aa",
   "metadata": {},
   "outputs": [
    {
     "data": {
      "text/plain": [
       "add (generic function with 3 methods)"
      ]
     },
     "execution_count": 104,
     "metadata": {},
     "output_type": "execute_result"
    }
   ],
   "source": [
    "## 간단한 버전\n",
    "add(x, y) = x + y\n",
    "add(x::Int, y::Int) = 100*x + y\n",
    "add(x::Float64, y::Float64) = 10000*x + y"
   ]
  },
  {
   "cell_type": "code",
   "execution_count": 105,
   "id": "5977ebe3-51c0-43fc-8eae-cc508ac3d3eb",
   "metadata": {},
   "outputs": [
    {
     "data": {
      "text/plain": [
       "101"
      ]
     },
     "execution_count": 105,
     "metadata": {},
     "output_type": "execute_result"
    }
   ],
   "source": [
    "add(1, 1) # 두번째 선언된 함수가 실행됨."
   ]
  },
  {
   "cell_type": "code",
   "execution_count": 106,
   "id": "5336e972-bfa9-4d23-99e4-f8c794ba3d2b",
   "metadata": {},
   "outputs": [
    {
     "data": {
      "text/plain": [
       "10001.0"
      ]
     },
     "execution_count": 106,
     "metadata": {},
     "output_type": "execute_result"
    }
   ],
   "source": [
    "add(1.0, 1.0) # 세 번째 선언된 함수가 실행됨."
   ]
  },
  {
   "cell_type": "code",
   "execution_count": 107,
   "id": "8c7bff61-3f08-4ff1-83fa-fb19b8f23a9b",
   "metadata": {},
   "outputs": [
    {
     "data": {
      "text/plain": [
       "2.0"
      ]
     },
     "execution_count": 107,
     "metadata": {},
     "output_type": "execute_result"
    }
   ],
   "source": [
    "add(1, 1.0) # 첫번째 선언된 함수가 실행됨."
   ]
  },
  {
   "cell_type": "markdown",
   "id": "66df65e3-dc53-48a3-9b3c-0d7811e039a2",
   "metadata": {},
   "source": [
    "## Parametric function\n",
    "- 함수 인자의 자료형을 제약할 수 있음."
   ]
  },
  {
   "cell_type": "code",
   "execution_count": 112,
   "id": "f7564572-962e-48d3-99c1-a7f9a0b50c02",
   "metadata": {},
   "outputs": [
    {
     "data": {
      "text/plain": [
       "add2 (generic function with 1 method)"
      ]
     },
     "execution_count": 112,
     "metadata": {},
     "output_type": "execute_result"
    }
   ],
   "source": [
    "\n",
    "# x, y는 Number 자료형만 받는다는 코드.\n",
    "function add2(x::T, y::T) where T <: Number\n",
    "    x + y\n",
    "end"
   ]
  },
  {
   "cell_type": "code",
   "execution_count": 114,
   "id": "a6c5fcbf-0f9a-4d49-a1ef-46a6fcc9794b",
   "metadata": {},
   "outputs": [
    {
     "data": {
      "text/plain": [
       "add3 (generic function with 1 method)"
      ]
     },
     "execution_count": 114,
     "metadata": {},
     "output_type": "execute_result"
    }
   ],
   "source": [
    " # x, y는 어느 자료형만 받는다는 코드.\n",
    "# (where 이후 절은 생략 가능)\n",
    "function add3(x::T, y::T) where T <: Any\n",
    "    x + y\n",
    "end"
   ]
  },
  {
   "cell_type": "markdown",
   "id": "10fd7857-4865-4b7f-a0fe-7943c9fa44ee",
   "metadata": {},
   "source": [
    "## JIT Compiler\n",
    "- 줄리아가 빠른 이유\n",
    "    - 파이썬처럼 객체를 선언해도 자료형을 자동으로 추론하여 그에 최적화된 함수를 자동으로 실행한다.\n",
    "    - 자료형을 추론할 필요 없이 명확히 변수와 자료형을 선언해주면 더 빨라질 수 있다."
   ]
  },
  {
   "cell_type": "code",
   "execution_count": 116,
   "id": "9f02f0f3-bb5d-402e-8203-6cc639e27e52",
   "metadata": {},
   "outputs": [
    {
     "data": {
      "text/plain": [
       "foo (generic function with 1 method)"
      ]
     },
     "execution_count": 116,
     "metadata": {},
     "output_type": "execute_result"
    }
   ],
   "source": [
    "function foo(x)\n",
    "    2*x + 10\n",
    "end"
   ]
  },
  {
   "cell_type": "code",
   "execution_count": 119,
   "id": "54625848-9e81-450e-a287-85a1ef589338",
   "metadata": {},
   "outputs": [
    {
     "data": {
      "text/plain": [
       "CodeInfo(\n",
       "\u001b[90m1 ─\u001b[39m %1 = 2 * x\n",
       "\u001b[90m│  \u001b[39m %2 = %1 + 10\n",
       "\u001b[90m└──\u001b[39m      return %2\n",
       ")"
      ]
     },
     "execution_count": 119,
     "metadata": {},
     "output_type": "execute_result"
    }
   ],
   "source": [
    "@code_lowered foo(1) # 파이썬도 이정도는 해준다."
   ]
  },
  {
   "cell_type": "code",
   "execution_count": 120,
   "id": "6c7eda5a-9d24-4e5f-aafe-dddbc50a4556",
   "metadata": {},
   "outputs": [
    {
     "data": {
      "text/plain": [
       "CodeInfo(\n",
       "\u001b[90m1 ─\u001b[39m %1 = Base.mul_int(2, x)\u001b[36m::Int64\u001b[39m\n",
       "\u001b[90m│  \u001b[39m %2 = Base.add_int(%1, 10)\u001b[36m::Int64\u001b[39m\n",
       "\u001b[90m└──\u001b[39m      return %2\n",
       ") => Int64"
      ]
     },
     "execution_count": 120,
     "metadata": {},
     "output_type": "execute_result"
    }
   ],
   "source": [
    "@code_typed foo(1) # but julia는 type inferencing을 한다."
   ]
  },
  {
   "cell_type": "code",
   "execution_count": 121,
   "id": "407be82b-0f2c-45c8-a717-7bcc3c648542",
   "metadata": {},
   "outputs": [
    {
     "data": {
      "text/plain": [
       "CodeInfo(\n",
       "\u001b[90m1 ─\u001b[39m %1 = Base.mul_float(2.0, x)\u001b[36m::Float64\u001b[39m\n",
       "\u001b[90m│  \u001b[39m %2 = Base.add_float(%1, 10.0)\u001b[36m::Float64\u001b[39m\n",
       "\u001b[90m└──\u001b[39m      return %2\n",
       ") => Float64"
      ]
     },
     "execution_count": 121,
     "metadata": {},
     "output_type": "execute_result"
    }
   ],
   "source": [
    "@code_typed foo(1.0)"
   ]
  },
  {
   "cell_type": "code",
   "execution_count": 122,
   "id": "34d078cc-b1f4-43e2-891f-0e6212ed8177",
   "metadata": {},
   "outputs": [
    {
     "name": "stdout",
     "output_type": "stream",
     "text": [
      "\u001b[90m;  @ In[116]:1 within `foo`\u001b[39m\n",
      "\u001b[90m; Function Attrs: uwtable\u001b[39m\n",
      "\u001b[95mdefine\u001b[39m \u001b[36mi64\u001b[39m \u001b[93m@julia_foo_3642\u001b[39m\u001b[33m(\u001b[39m\u001b[36mi64\u001b[39m \u001b[95msignext\u001b[39m \u001b[0m%0\u001b[33m)\u001b[39m \u001b[0m#0 \u001b[33m{\u001b[39m\n",
      "\u001b[91mtop:\u001b[39m\n",
      "\u001b[90m;  @ In[116]:2 within `foo`\u001b[39m\n",
      "\u001b[90m; ┌ @ int.jl:88 within `*`\u001b[39m\n",
      "   \u001b[0m%1 \u001b[0m= \u001b[96m\u001b[1mshl\u001b[22m\u001b[39m \u001b[36mi64\u001b[39m \u001b[0m%0\u001b[0m, \u001b[33m1\u001b[39m\n",
      "\u001b[90m; └\u001b[39m\n",
      "\u001b[90m; ┌ @ int.jl:87 within `+`\u001b[39m\n",
      "   \u001b[0m%2 \u001b[0m= \u001b[96m\u001b[1madd\u001b[22m\u001b[39m \u001b[36mi64\u001b[39m \u001b[0m%1\u001b[0m, \u001b[33m10\u001b[39m\n",
      "\u001b[90m; └\u001b[39m\n",
      "  \u001b[96m\u001b[1mret\u001b[22m\u001b[39m \u001b[36mi64\u001b[39m \u001b[0m%2\n",
      "\u001b[33m}\u001b[39m\n"
     ]
    }
   ],
   "source": [
    "@code_llvm foo(1)"
   ]
  },
  {
   "cell_type": "code",
   "execution_count": null,
   "id": "76adc5e2-efea-494a-8b41-09103ee8a46c",
   "metadata": {},
   "outputs": [],
   "source": []
  }
 ],
 "metadata": {
  "kernelspec": {
   "display_name": "Julia 1.7.2",
   "language": "julia",
   "name": "julia-1.7"
  },
  "language_info": {
   "file_extension": ".jl",
   "mimetype": "application/julia",
   "name": "julia",
   "version": "1.7.2"
  }
 },
 "nbformat": 4,
 "nbformat_minor": 5
}
