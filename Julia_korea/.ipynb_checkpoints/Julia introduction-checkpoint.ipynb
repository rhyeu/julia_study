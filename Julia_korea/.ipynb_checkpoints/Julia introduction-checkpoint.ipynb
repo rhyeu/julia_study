{
 "cells": [
  {
   "cell_type": "markdown",
   "id": "ff65b3c9",
   "metadata": {},
   "source": [
    "- reference : \n",
    "    - [Youtube : Julia Tutorial 2022 Korea 줄리아 언어 소개](https://www.youtube.com/watch?v=wjLXmz4D9VQ&t=2131s)\n",
    "    - [Julia Tutorial 2022 Korea 줄리아 언어 소개 - 마크다운 문서](https://github.com/chkwon/JuliaTutorial2022Korea)"
   ]
  },
  {
   "cell_type": "markdown",
   "id": "56f161a2-4a7b-4dc9-bac1-04790a8a6c1a",
   "metadata": {},
   "source": [
    "# 기본 연산 & 자료형\n",
    "    - `String` \n",
    "    - `Char` \n",
    "    - `Int` \n",
    "    - `Float64`\n",
    "    - `Bool` \n",
    "    - `Vector`\n",
    "    - `Matrix`"
   ]
  },
  {
   "cell_type": "code",
   "execution_count": 21,
   "id": "0f02ce7d-fecc-4143-8fb8-b51b2cf4ab44",
   "metadata": {},
   "outputs": [
    {
     "data": {
      "text/plain": [
       "2"
      ]
     },
     "execution_count": 21,
     "metadata": {},
     "output_type": "execute_result"
    }
   ],
   "source": [
    "1+1"
   ]
  },
  {
   "cell_type": "markdown",
   "id": "97a1d7ae-c43a-41f8-823b-f5980b3ffc79",
   "metadata": {},
   "source": [
    "## 문자열\n",
    "\n",
    "- 문자열은 `\"\"`를 사용한다. String\n",
    "- `''`는 `Character`라는 별도의 자료형으로 표현된다.\n",
    "- 포매팅 사용가능"
   ]
  },
  {
   "cell_type": "code",
   "execution_count": 2,
   "id": "eb7ba578-6a99-461f-addc-085b6a75533c",
   "metadata": {},
   "outputs": [
    {
     "ename": "LoadError",
     "evalue": "syntax: character literal contains multiple characters",
     "output_type": "error",
     "traceback": [
      "syntax: character literal contains multiple characters",
      "",
      "Stacktrace:",
      " [1] top-level scope",
      "   @ In[2]:1",
      " [2] eval",
      "   @ .\\boot.jl:373 [inlined]",
      " [3] include_string(mapexpr::typeof(REPL.softscope), mod::Module, code::String, filename::String)",
      "   @ Base .\\loading.jl:1196"
     ]
    }
   ],
   "source": [
    "println('hello world')"
   ]
  },
  {
   "cell_type": "code",
   "execution_count": 3,
   "id": "ab761faa-49cc-492a-aacc-b431a86bf917",
   "metadata": {},
   "outputs": [
    {
     "name": "stdout",
     "output_type": "stream",
     "text": [
      "hello world\n"
     ]
    }
   ],
   "source": [
    "println(\"hello world\")"
   ]
  },
  {
   "cell_type": "code",
   "execution_count": 12,
   "id": "51ffef8e-5414-4ec1-ad09-24333a42000e",
   "metadata": {},
   "outputs": [
    {
     "data": {
      "text/plain": [
       "String"
      ]
     },
     "execution_count": 12,
     "metadata": {},
     "output_type": "execute_result"
    }
   ],
   "source": [
    "a = \"abc\"\n",
    "typeof(a)"
   ]
  },
  {
   "cell_type": "code",
   "execution_count": 18,
   "id": "bee7b786-108f-444b-936e-1dd7870f5d7f",
   "metadata": {},
   "outputs": [
    {
     "data": {
      "text/plain": [
       "'a': ASCII/Unicode U+0061 (category Ll: Letter, lowercase)"
      ]
     },
     "execution_count": 18,
     "metadata": {},
     "output_type": "execute_result"
    }
   ],
   "source": [
    "b = 'a'\n",
    "b"
   ]
  },
  {
   "cell_type": "code",
   "execution_count": 19,
   "id": "5e0904a8-1eec-40c9-ab79-5d26015c45cc",
   "metadata": {},
   "outputs": [
    {
     "data": {
      "text/plain": [
       "Char"
      ]
     },
     "execution_count": 19,
     "metadata": {},
     "output_type": "execute_result"
    }
   ],
   "source": [
    "typeof(b)"
   ]
  },
  {
   "cell_type": "code",
   "execution_count": 15,
   "id": "6a9efd22-5436-46ce-b1c7-ad5084cffa97",
   "metadata": {},
   "outputs": [
    {
     "ename": "LoadError",
     "evalue": "syntax: character literal contains multiple characters",
     "output_type": "error",
     "traceback": [
      "syntax: character literal contains multiple characters",
      "",
      "Stacktrace:",
      " [1] top-level scope",
      "   @ In[15]:1",
      " [2] eval",
      "   @ .\\boot.jl:373 [inlined]",
      " [3] include_string(mapexpr::typeof(REPL.softscope), mod::Module, code::String, filename::String)",
      "   @ Base .\\loading.jl:1196"
     ]
    }
   ],
   "source": [
    "c = 'abc'"
   ]
  },
  {
   "cell_type": "code",
   "execution_count": 7,
   "id": "b60fb74c-4d15-48a6-b1dc-68e3f4952db5",
   "metadata": {},
   "outputs": [
    {
     "name": "stdout",
     "output_type": "stream",
     "text": [
      "Hello World\n",
      "(Hello)World\n"
     ]
    }
   ],
   "source": [
    "## 포매팅\n",
    "abc = \"Hello\"\n",
    "println(\"$abc World\")\n",
    "println(\"($abc)World\")"
   ]
  },
  {
   "cell_type": "markdown",
   "id": "fb551707-440e-4a96-a72a-a00d194cf48a",
   "metadata": {},
   "source": [
    "## 숫자 자료형\n",
    "- `Int` \n",
    "- `Float64`"
   ]
  },
  {
   "cell_type": "code",
   "execution_count": 9,
   "id": "e99ddd4b-c25c-4a34-8f3d-50a91de0db51",
   "metadata": {},
   "outputs": [
    {
     "data": {
      "text/plain": [
       "Int64"
      ]
     },
     "execution_count": 9,
     "metadata": {},
     "output_type": "execute_result"
    }
   ],
   "source": [
    "Int"
   ]
  },
  {
   "cell_type": "code",
   "execution_count": 16,
   "id": "374a4a5c-b9ee-436e-bc61-a476adc93461",
   "metadata": {},
   "outputs": [
    {
     "data": {
      "text/plain": [
       "Int32"
      ]
     },
     "execution_count": 16,
     "metadata": {},
     "output_type": "execute_result"
    }
   ],
   "source": [
    "b = Int32(2)\n",
    "typeof(b)"
   ]
  },
  {
   "cell_type": "markdown",
   "id": "7eea8e38-2fcf-435b-a14d-5d23214db1eb",
   "metadata": {},
   "source": [
    "### 자료형의 Hiarachy\n"
   ]
  },
  {
   "cell_type": "code",
   "execution_count": 23,
   "id": "e093f0df-4fc9-4ed3-b3cc-4d199c686dbe",
   "metadata": {},
   "outputs": [
    {
     "data": {
      "text/plain": [
       "true"
      ]
     },
     "execution_count": 23,
     "metadata": {},
     "output_type": "execute_result"
    }
   ],
   "source": [
    "Int32 <: Integer"
   ]
  },
  {
   "cell_type": "code",
   "execution_count": 24,
   "id": "936136a4-46f9-4f72-b989-d13c104d2afa",
   "metadata": {},
   "outputs": [
    {
     "data": {
      "text/plain": [
       "true"
      ]
     },
     "execution_count": 24,
     "metadata": {},
     "output_type": "execute_result"
    }
   ],
   "source": [
    "Int64 <: Integer"
   ]
  },
  {
   "cell_type": "code",
   "execution_count": 25,
   "id": "42c96b03-a7af-4f29-b2fb-43fb4416a32b",
   "metadata": {},
   "outputs": [
    {
     "data": {
      "text/plain": [
       "false"
      ]
     },
     "execution_count": 25,
     "metadata": {},
     "output_type": "execute_result"
    }
   ],
   "source": [
    "Char <: Integer"
   ]
  },
  {
   "cell_type": "code",
   "execution_count": 26,
   "id": "35d771e3-648e-44b5-97c7-b3bf5a46699d",
   "metadata": {},
   "outputs": [
    {
     "data": {
      "text/plain": [
       "true"
      ]
     },
     "execution_count": 26,
     "metadata": {},
     "output_type": "execute_result"
    }
   ],
   "source": [
    "Bool <: Integer"
   ]
  },
  {
   "cell_type": "code",
   "execution_count": 27,
   "id": "8b4f6298-3299-455b-91b8-180fe09780e6",
   "metadata": {},
   "outputs": [
    {
     "data": {
      "text/plain": [
       "true"
      ]
     },
     "execution_count": 27,
     "metadata": {},
     "output_type": "execute_result"
    }
   ],
   "source": [
    "Float32 <: AbstractFloat "
   ]
  },
  {
   "cell_type": "code",
   "execution_count": 28,
   "id": "0b1aeb8e-186c-470d-8142-e331d299e3cb",
   "metadata": {},
   "outputs": [
    {
     "data": {
      "text/plain": [
       "true"
      ]
     },
     "execution_count": 28,
     "metadata": {},
     "output_type": "execute_result"
    }
   ],
   "source": [
    "Float64 <: AbstractFloat "
   ]
  },
  {
   "cell_type": "code",
   "execution_count": 29,
   "id": "0c96c0e4-c584-4b5c-8bc5-f59f427f741d",
   "metadata": {},
   "outputs": [
    {
     "data": {
      "text/plain": [
       "true"
      ]
     },
     "execution_count": 29,
     "metadata": {},
     "output_type": "execute_result"
    }
   ],
   "source": [
    "Int64 <: Integer <: Real"
   ]
  },
  {
   "cell_type": "code",
   "execution_count": 31,
   "id": "724506cc-787a-4d0b-b9f4-fbfe1c9f6f41",
   "metadata": {},
   "outputs": [
    {
     "data": {
      "text/plain": [
       "false"
      ]
     },
     "execution_count": 31,
     "metadata": {},
     "output_type": "execute_result"
    }
   ],
   "source": [
    "String <: Integer <: Real"
   ]
  },
  {
   "cell_type": "code",
   "execution_count": 32,
   "id": "44d88f89-9685-43fd-9cd9-44aec5e78f43",
   "metadata": {},
   "outputs": [
    {
     "data": {
      "text/plain": [
       "true"
      ]
     },
     "execution_count": 32,
     "metadata": {},
     "output_type": "execute_result"
    }
   ],
   "source": [
    "Float64 <: Real"
   ]
  },
  {
   "cell_type": "code",
   "execution_count": 34,
   "id": "60cde956-f129-458f-ae64-db79f9932f8b",
   "metadata": {},
   "outputs": [
    {
     "data": {
      "text/plain": [
       "1.0 + 2.0im"
      ]
     },
     "execution_count": 34,
     "metadata": {},
     "output_type": "execute_result"
    }
   ],
   "source": [
    "z = 1.0 + 2.0* im # 복소수도 지원"
   ]
  },
  {
   "cell_type": "code",
   "execution_count": 35,
   "id": "06889271-8f18-4021-95e4-2b3c8d49f6fd",
   "metadata": {},
   "outputs": [
    {
     "data": {
      "text/plain": [
       "ComplexF64 (alias for Complex{Float64})"
      ]
     },
     "execution_count": 35,
     "metadata": {},
     "output_type": "execute_result"
    }
   ],
   "source": [
    "typeof(z)"
   ]
  },
  {
   "cell_type": "code",
   "execution_count": 37,
   "id": "95076154-0e50-4867-8901-edde66a4b78d",
   "metadata": {},
   "outputs": [
    {
     "data": {
      "text/plain": [
       "true"
      ]
     },
     "execution_count": 37,
     "metadata": {},
     "output_type": "execute_result"
    }
   ],
   "source": [
    "Complex <: Number"
   ]
  },
  {
   "cell_type": "code",
   "execution_count": 38,
   "id": "bf307151-a9f7-49cc-be66-2c494aecd946",
   "metadata": {},
   "outputs": [
    {
     "data": {
      "text/plain": [
       "true"
      ]
     },
     "execution_count": 38,
     "metadata": {},
     "output_type": "execute_result"
    }
   ],
   "source": [
    "Real <: Number"
   ]
  },
  {
   "cell_type": "markdown",
   "id": "e7081ac0-baf9-4a61-a060-7389e5b66f7a",
   "metadata": {},
   "source": [
    "### 벡터, 매트릭스\n",
    "    - 파이썬의 리스트와 같은 개념\n",
    "    - 하지만 줄리아에선 어레이 개념으로 정의한다.\n",
    "    - 인덱싱\n",
    "        - 1부터 시작한다!\n",
    "        - 파이썬 리스트의 인덱싱 방법도 다르다. (줄리아가 보다 직관적)"
   ]
  },
  {
   "cell_type": "code",
   "execution_count": 39,
   "id": "23b3b0ee-4bee-43a1-91cf-adca66677c3f",
   "metadata": {},
   "outputs": [
    {
     "data": {
      "text/plain": [
       "4-element Vector{Int64}:\n",
       " 1\n",
       " 2\n",
       " 3\n",
       " 4"
      ]
     },
     "execution_count": 39,
     "metadata": {},
     "output_type": "execute_result"
    }
   ],
   "source": [
    "v = [1,2,3,4]"
   ]
  },
  {
   "cell_type": "code",
   "execution_count": 40,
   "id": "29f7f30d-61cd-4be8-a69c-df6f25c6dfc4",
   "metadata": {},
   "outputs": [
    {
     "data": {
      "text/plain": [
       "Vector{Int64} (alias for Array{Int64, 1})"
      ]
     },
     "execution_count": 40,
     "metadata": {},
     "output_type": "execute_result"
    }
   ],
   "source": [
    "typeof(v)"
   ]
  },
  {
   "cell_type": "code",
   "execution_count": 41,
   "id": "26892d02-c5e9-46a8-a920-1f189679f796",
   "metadata": {},
   "outputs": [
    {
     "data": {
      "text/plain": [
       "3×4 Matrix{Int64}:\n",
       " 1   2   3   4\n",
       " 5   6   7   8\n",
       " 9  10  11  12"
      ]
     },
     "execution_count": 41,
     "metadata": {},
     "output_type": "execute_result"
    }
   ],
   "source": [
    "A = [ 1 2 3 4;\n",
    "    5 6 7 8; \n",
    "    9 10 11 12 ] "
   ]
  },
  {
   "cell_type": "code",
   "execution_count": 42,
   "id": "e1b34f33-9277-4dbc-93fd-9e3f9e11ca14",
   "metadata": {},
   "outputs": [
    {
     "data": {
      "text/plain": [
       "Matrix{Int64} (alias for Array{Int64, 2})"
      ]
     },
     "execution_count": 42,
     "metadata": {},
     "output_type": "execute_result"
    }
   ],
   "source": [
    "typeof(A)"
   ]
  },
  {
   "cell_type": "code",
   "execution_count": 43,
   "id": "b16d557e-6e5c-4363-b3bd-e2157b74bfe0",
   "metadata": {},
   "outputs": [
    {
     "ename": "LoadError",
     "evalue": "BoundsError: attempt to access 4-element Vector{Int64} at index [0]",
     "output_type": "error",
     "traceback": [
      "BoundsError: attempt to access 4-element Vector{Int64} at index [0]",
      "",
      "Stacktrace:",
      " [1] getindex(A::Vector{Int64}, i1::Int64)",
      "   @ Base .\\array.jl:861",
      " [2] top-level scope",
      "   @ In[43]:1",
      " [3] eval",
      "   @ .\\boot.jl:373 [inlined]",
      " [4] include_string(mapexpr::typeof(REPL.softscope), mod::Module, code::String, filename::String)",
      "   @ Base .\\loading.jl:1196"
     ]
    }
   ],
   "source": [
    "v[0]"
   ]
  },
  {
   "cell_type": "code",
   "execution_count": 45,
   "id": "afef4e6d-bfd4-4d65-8f66-f102705c4c51",
   "metadata": {},
   "outputs": [
    {
     "data": {
      "text/plain": [
       "1"
      ]
     },
     "execution_count": 45,
     "metadata": {},
     "output_type": "execute_result"
    }
   ],
   "source": [
    "v[1]"
   ]
  },
  {
   "cell_type": "code",
   "execution_count": 46,
   "id": "7c853d5a-4931-4e26-a796-abf03d7e7417",
   "metadata": {},
   "outputs": [
    {
     "data": {
      "text/plain": [
       "1"
      ]
     },
     "execution_count": 46,
     "metadata": {},
     "output_type": "execute_result"
    }
   ],
   "source": [
    "A[1,1]"
   ]
  },
  {
   "cell_type": "code",
   "execution_count": 47,
   "id": "41383b27-3bea-4fc8-a471-864aebd8c3be",
   "metadata": {},
   "outputs": [
    {
     "data": {
      "text/plain": [
       "3-element Vector{Int64}:\n",
       "  2\n",
       "  6\n",
       " 10"
      ]
     },
     "execution_count": 47,
     "metadata": {},
     "output_type": "execute_result"
    }
   ],
   "source": [
    "A[:, 2]"
   ]
  },
  {
   "cell_type": "code",
   "execution_count": 48,
   "id": "3066ad3d-9369-41e5-b371-13bef04a42de",
   "metadata": {},
   "outputs": [
    {
     "data": {
      "text/plain": [
       "3×4 Matrix{Int64}:\n",
       " 1   2   3   4\n",
       " 5   6   7   8\n",
       " 9  10  11  12"
      ]
     },
     "execution_count": 48,
     "metadata": {},
     "output_type": "execute_result"
    }
   ],
   "source": [
    "A[:, :]"
   ]
  },
  {
   "cell_type": "code",
   "execution_count": 50,
   "id": "f21dc7bb-a47f-46ae-b44d-807cb948497c",
   "metadata": {},
   "outputs": [
    {
     "data": {
      "text/plain": [
       "1-element Vector{UnitRange{Int64}}:\n",
       " 1:10"
      ]
     },
     "execution_count": 50,
     "metadata": {},
     "output_type": "execute_result"
    }
   ],
   "source": [
    "v1 = [1:10]"
   ]
  },
  {
   "cell_type": "code",
   "execution_count": 51,
   "id": "79a76984-577e-49f0-a3fe-fe05c643e053",
   "metadata": {},
   "outputs": [
    {
     "data": {
      "text/plain": [
       "10-element Vector{Int64}:\n",
       "  1\n",
       "  2\n",
       "  3\n",
       "  4\n",
       "  5\n",
       "  6\n",
       "  7\n",
       "  8\n",
       "  9\n",
       " 10"
      ]
     },
     "execution_count": 51,
     "metadata": {},
     "output_type": "execute_result"
    }
   ],
   "source": [
    "v2 = collect(1:10)"
   ]
  },
  {
   "cell_type": "code",
   "execution_count": 52,
   "id": "f3f21dfc-a2ba-4404-9875-eef40e539b3f",
   "metadata": {},
   "outputs": [
    {
     "data": {
      "text/plain": [
       "Vector{UnitRange{Int64}} (alias for Array{UnitRange{Int64}, 1})"
      ]
     },
     "execution_count": 52,
     "metadata": {},
     "output_type": "execute_result"
    }
   ],
   "source": [
    "typeof(v1)"
   ]
  },
  {
   "cell_type": "code",
   "execution_count": 53,
   "id": "ce0421bb-5fcf-4180-8d02-1ca949332585",
   "metadata": {},
   "outputs": [
    {
     "data": {
      "text/plain": [
       "Vector{Int64} (alias for Array{Int64, 1})"
      ]
     },
     "execution_count": 53,
     "metadata": {},
     "output_type": "execute_result"
    }
   ],
   "source": [
    "typeof(v2)"
   ]
  },
  {
   "cell_type": "code",
   "execution_count": 54,
   "id": "a578863f-8432-47ad-a5a0-6527e537dfa7",
   "metadata": {},
   "outputs": [
    {
     "ename": "LoadError",
     "evalue": "BoundsError: attempt to access 1-element Vector{UnitRange{Int64}} at index [2:3]",
     "output_type": "error",
     "traceback": [
      "BoundsError: attempt to access 1-element Vector{UnitRange{Int64}} at index [2:3]",
      "",
      "Stacktrace:",
      " [1] throw_boundserror(A::Vector{UnitRange{Int64}}, I::Tuple{UnitRange{Int64}})",
      "   @ Base .\\abstractarray.jl:691",
      " [2] checkbounds",
      "   @ .\\abstractarray.jl:656 [inlined]",
      " [3] getindex(A::Vector{UnitRange{Int64}}, I::UnitRange{Int64})",
      "   @ Base .\\array.jl:867",
      " [4] top-level scope",
      "   @ In[54]:1",
      " [5] eval",
      "   @ .\\boot.jl:373 [inlined]",
      " [6] include_string(mapexpr::typeof(REPL.softscope), mod::Module, code::String, filename::String)",
      "   @ Base .\\loading.jl:1196"
     ]
    }
   ],
   "source": [
    "v1[2:3]"
   ]
  },
  {
   "cell_type": "code",
   "execution_count": 55,
   "id": "1b198d34-6ce0-405c-b431-e401dd60b0dd",
   "metadata": {},
   "outputs": [
    {
     "data": {
      "text/plain": [
       "2-element Vector{Int64}:\n",
       " 2\n",
       " 3"
      ]
     },
     "execution_count": 55,
     "metadata": {},
     "output_type": "execute_result"
    }
   ],
   "source": [
    "v2[2:3]"
   ]
  },
  {
   "cell_type": "code",
   "execution_count": 57,
   "id": "57ace182-b888-43bc-bfa3-9570e2490c0d",
   "metadata": {},
   "outputs": [
    {
     "data": {
      "text/plain": [
       "10-element Vector{Int64}:\n",
       "  10\n",
       "  20\n",
       "  30\n",
       "  40\n",
       "  50\n",
       "  60\n",
       "  70\n",
       "  80\n",
       "  90\n",
       " 100"
      ]
     },
     "execution_count": 57,
     "metadata": {},
     "output_type": "execute_result"
    }
   ],
   "source": [
    "# list comprehension도 가능함.\n",
    "[x * 10 for x in 1:10]"
   ]
  },
  {
   "cell_type": "markdown",
   "id": "b25170e9-df6d-4a3e-aff6-5bd73abb48c6",
   "metadata": {},
   "source": [
    "## 라이브러리 기반 자료형"
   ]
  },
  {
   "cell_type": "code",
   "execution_count": 59,
   "id": "bc9a5edb-1534-48d4-8e67-c2ca48cba63d",
   "metadata": {},
   "outputs": [],
   "source": [
    "using SparseArrays"
   ]
  },
  {
   "cell_type": "code",
   "execution_count": 60,
   "id": "785c3297-a79f-4b16-9ce5-7d87b2765641",
   "metadata": {},
   "outputs": [
    {
     "data": {
      "text/plain": [
       "SparseVector"
      ]
     },
     "execution_count": 60,
     "metadata": {},
     "output_type": "execute_result"
    }
   ],
   "source": [
    "SparseVector"
   ]
  },
  {
   "cell_type": "code",
   "execution_count": 61,
   "id": "327b5431-d3b7-45f0-9c34-edaad6c083e3",
   "metadata": {},
   "outputs": [
    {
     "data": {
      "text/plain": [
       "true"
      ]
     },
     "execution_count": 61,
     "metadata": {},
     "output_type": "execute_result"
    }
   ],
   "source": [
    "SparseVector <: AbstractVector"
   ]
  },
  {
   "cell_type": "code",
   "execution_count": 62,
   "id": "5633a235-a100-467d-a7fa-08bf4d3f77ac",
   "metadata": {},
   "outputs": [
    {
     "data": {
      "text/plain": [
       "false"
      ]
     },
     "execution_count": 62,
     "metadata": {},
     "output_type": "execute_result"
    }
   ],
   "source": [
    "Vector <: SparseVector"
   ]
  },
  {
   "cell_type": "code",
   "execution_count": 63,
   "id": "c86582ac-ebec-4ba2-8b0e-9eb7d6679fa8",
   "metadata": {},
   "outputs": [
    {
     "data": {
      "text/plain": [
       "true"
      ]
     },
     "execution_count": 63,
     "metadata": {},
     "output_type": "execute_result"
    }
   ],
   "source": [
    "Vector <: AbstractVector"
   ]
  },
  {
   "cell_type": "markdown",
   "id": "bc644d41-0f26-489d-ad96-014824873f25",
   "metadata": {},
   "source": [
    "## Unicode"
   ]
  },
  {
   "cell_type": "code",
   "execution_count": 66,
   "id": "b3775427-14f8-4f76-ba37-b726533264d5",
   "metadata": {},
   "outputs": [
    {
     "data": {
      "text/plain": [
       "10"
      ]
     },
     "execution_count": 66,
     "metadata": {},
     "output_type": "execute_result"
    }
   ],
   "source": [
    "α = 10"
   ]
  },
  {
   "cell_type": "code",
   "execution_count": 67,
   "id": "e58ad156-6f36-4fed-8e0e-0888937c13a9",
   "metadata": {},
   "outputs": [
    {
     "data": {
      "text/plain": [
       "20"
      ]
     },
     "execution_count": 67,
     "metadata": {},
     "output_type": "execute_result"
    }
   ],
   "source": [
    "β = 20"
   ]
  },
  {
   "cell_type": "code",
   "execution_count": 68,
   "id": "665a023f-fd93-4771-ac3b-f5488a26fac3",
   "metadata": {},
   "outputs": [
    {
     "data": {
      "text/plain": [
       "30"
      ]
     },
     "execution_count": 68,
     "metadata": {},
     "output_type": "execute_result"
    }
   ],
   "source": [
    "α + β"
   ]
  },
  {
   "cell_type": "code",
   "execution_count": 70,
   "id": "8f5051a8-8a3c-494b-8ab2-8b7acf18c596",
   "metadata": {},
   "outputs": [
    {
     "name": "stdout",
     "output_type": "stream",
     "text": [
      "🍎"
     ]
    }
   ],
   "source": [
    "print(\"🍎\")"
   ]
  },
  {
   "cell_type": "code",
   "execution_count": 71,
   "id": "86c0a774-21c0-444a-a4f5-e519e309f551",
   "metadata": {},
   "outputs": [
    {
     "data": {
      "text/plain": [
       "10"
      ]
     },
     "execution_count": 71,
     "metadata": {},
     "output_type": "execute_result"
    }
   ],
   "source": [
    "🍎 = 10"
   ]
  },
  {
   "cell_type": "code",
   "execution_count": 72,
   "id": "74a93048-99d4-47d3-beed-c16940f5a250",
   "metadata": {},
   "outputs": [
    {
     "data": {
      "text/plain": [
       "20"
      ]
     },
     "execution_count": 72,
     "metadata": {},
     "output_type": "execute_result"
    }
   ],
   "source": [
    "🍌 = 20"
   ]
  },
  {
   "cell_type": "code",
   "execution_count": 73,
   "id": "468acb90-4ef0-447c-8dec-85053faefe8d",
   "metadata": {},
   "outputs": [
    {
     "data": {
      "text/plain": [
       "40"
      ]
     },
     "execution_count": 73,
     "metadata": {},
     "output_type": "execute_result"
    }
   ],
   "source": [
    "🍉 = 40"
   ]
  },
  {
   "cell_type": "code",
   "execution_count": 74,
   "id": "d4160927-1ca7-46b1-8b8b-a6860e271190",
   "metadata": {},
   "outputs": [
    {
     "name": "stdout",
     "output_type": "stream",
     "text": [
      "[10, 20, 40]"
     ]
    }
   ],
   "source": [
    "fruits = [🍎, 🍌, 🍉]\n",
    "\n",
    "print(fruits)"
   ]
  },
  {
   "cell_type": "code",
   "execution_count": 75,
   "id": "00603573-3503-4c31-9d61-f969264a59da",
   "metadata": {},
   "outputs": [
    {
     "data": {
      "text/plain": [
       "3-element Vector{Int64}:\n",
       " 20\n",
       " 30\n",
       " 50"
      ]
     },
     "execution_count": 75,
     "metadata": {},
     "output_type": "execute_result"
    }
   ],
   "source": [
    "[fruit + 10 for fruit in fruits]"
   ]
  },
  {
   "cell_type": "code",
   "execution_count": 76,
   "id": "ad199378-af34-49b2-a407-08309b622c7e",
   "metadata": {},
   "outputs": [
    {
     "name": "stdout",
     "output_type": "stream",
     "text": [
      "101"
     ]
    }
   ],
   "source": [
    "나 = 10\n",
    "너 = 나 ^2 + 1\n",
    "\n",
    "print(너)"
   ]
  },
  {
   "cell_type": "code",
   "execution_count": null,
   "id": "60c1642c",
   "metadata": {},
   "outputs": [],
   "source": [
    "\n",
    "\n",
    "julia> 나 = 10 10\n",
    "\n",
    "julia> 너 = 나^2 100\n",
    "\n",
    "julia> for i in fruits println(i)\n",
    "\n",
    "   end\n",
    "ERROR: UndefVarError: fruits not defined Stacktrace: [1] top-level scope @ .\\none:1\n",
    "\n",
    "julia> for i in fruits println(i) end ERROR: UndefVarError: fruits not defined Stacktrace: [1] top-level scope @ .\\none:1\n",
    "\n",
    "julia> for i in fruits println(i) end ERROR: UndefVarError: fruits not defined Stacktrace: [1] top-level scope @ .\\none:1\n",
    "\n",
    "julia> for i in fruit println(i) end 10 20 40\n",
    "\n",
    "julia> Γ = [1:2:10] 1-element Vector{StepRange{Int64, Int64}}: 1:2:9\n",
    "\n",
    "julia> for γ in Γ println(γ) end 1:2:9\n",
    "\n",
    "julia> for γ ∈ Γ println(γ) end 1:2:9\n",
    "\n",
    "julia> function f(x) return x ^ 2 + 10 end f (generic function with 1 method)\n",
    "\n",
    "julia> f(2) 14\n",
    "\n",
    "julia> f(x) = x^2 + 10 f (generic function with 1 method)\n",
    "\n",
    "julia> f(2) 14\n",
    "\n",
    "julia> g(x, λ) = x^2 + λ^2 g (generic function with 1 method)\n",
    "\n",
    "julia> g(2, 4) 20\n",
    "\n",
    "julia> function h(x) x= 10 y = 20 x + y end h (generic function with 1 method)\n",
    "\n",
    "julia> h(x) ERROR: UndefVarError: x not defined Stacktrace: [1] top-level scope @ none:1\n",
    "\n",
    "julia> h h (generic function with 1 method)\n",
    "\n",
    "julia> h(1) 30\n",
    "\n",
    "julia> println(\"return은 기본적으로 맨 마지막 값을 따름\") return은 기본적으로 맨 마지막 값을 따름\n",
    "\n",
    "julia> funciton foo(x, y = 10; option = false) ERROR: syntax: extra token \"foo\" after end of expression\n",
    "\n",
    "julia> function foo(x, y = 10; option = false) if option return x + y else return x^2 + y^2 end end foo (generic function with 2 methods)\n",
    "\n",
    "julia> foo(1) 101\n",
    "\n",
    "julia> foo(1, option = T) ERROR: UndefVarError: T not defined Stacktrace: [1] top-level scope @ none:1\n",
    "\n",
    "julia> foo(1, option = true) 11\n",
    "\n",
    "julia> foo(1, option = True) ERROR: UndefVarError: True not defined Stacktrace: [1] top-level scope @ none:1\n",
    "\n",
    "julia> foo(1, 4; option = true) 5"
   ]
  },
  {
   "cell_type": "code",
   "execution_count": null,
   "id": "2645d6fe-4083-4bcd-b32b-025d38241510",
   "metadata": {},
   "outputs": [],
   "source": []
  },
  {
   "cell_type": "code",
   "execution_count": null,
   "id": "85869f59-2472-45ec-a998-44a260827932",
   "metadata": {},
   "outputs": [],
   "source": []
  },
  {
   "cell_type": "code",
   "execution_count": null,
   "id": "236bdfcc-7d83-4cc7-8dcc-45e8ec23274a",
   "metadata": {},
   "outputs": [],
   "source": []
  },
  {
   "cell_type": "markdown",
   "id": "030dc330-89fa-43a7-8480-cd1973bd1b21",
   "metadata": {},
   "source": [
    "파이썬과 줄리아는 벡터나 어래이 자체를 통째로 넘겨서 연산하는 건 2~3배 차이밖에 안남.\n",
    "- 파이썬도 np, sklearn 사용시 C 연산을 활용해서 수행하기 때문에 효율적.\n",
    "- 다만 udf를 통해 연산을 수행할 경우 Julia가 효율적\n"
   ]
  },
  {
   "cell_type": "code",
   "execution_count": 3,
   "id": "66a6f39c-a777-4f2c-8d99-20c8026ebed2",
   "metadata": {},
   "outputs": [
    {
     "data": {
      "text/plain": [
       "10×10 Matrix{Float64}:\n",
       " 0.880401   0.767444  0.0304314  0.547307   …  0.631968   0.717748  0.505595\n",
       " 0.0251271  0.17722   0.552062   0.932269      0.954047   0.109841  0.0621638\n",
       " 0.105815   0.105482  0.714423   0.573212      0.374624   0.997421  0.887241\n",
       " 0.575009   0.3596    0.922165   0.732464      0.199644   0.584301  0.953311\n",
       " 0.0110551  0.306806  0.225718   0.954258      0.470077   0.462582  0.202274\n",
       " 0.665505   0.427636  0.865557   0.188281   …  0.524382   0.270547  0.418727\n",
       " 0.839968   0.85282   0.248375   0.679227      0.843578   0.175514  0.883763\n",
       " 0.375301   0.455767  0.424341   0.0125277     0.24229    0.549411  0.632755\n",
       " 0.721524   0.555301  0.319769   0.350686      0.597997   0.100431  0.477114\n",
       " 0.975932   0.374118  0.945004   0.271118      0.0925752  0.784577  0.531544"
      ]
     },
     "execution_count": 3,
     "metadata": {},
     "output_type": "execute_result"
    }
   ],
   "source": [
    "A = rand(10, 10)\n",
    "B = rand(10, 10)"
   ]
  },
  {
   "cell_type": "code",
   "execution_count": 8,
   "id": "cf545dcb-258d-40b7-8904-28e9974245a3",
   "metadata": {},
   "outputs": [
    {
     "data": {
      "text/plain": [
       "10×10 Matrix{Float64}:\n",
       " 2.97518  2.21188  2.69311  2.17493  …  1.9883   2.37681  1.80824  2.58522\n",
       " 2.59403  2.2645   2.80987  2.70368     2.65237  2.93806  2.6263   2.91419\n",
       " 2.04182  2.01472  1.55642  2.18614     2.16883  2.2947   1.98801  2.33983\n",
       " 2.27594  1.9233   2.23725  2.13401     2.03208  2.04767  1.91587  2.40969\n",
       " 3.36876  3.04438  3.52942  3.36366     3.09115  3.48556  2.95203  4.06946\n",
       " 1.52346  1.44197  1.99696  1.81104  …  1.62543  1.53897  2.16086  2.47997\n",
       " 2.65891  2.46371  2.68999  3.53132     2.98765  3.05618  2.61567  3.08493\n",
       " 2.11145  1.9443   1.6168   1.99923     1.71901  1.85658  1.84361  2.36236\n",
       " 2.9245   2.29308  2.53349  2.36759     2.16596  2.41671  1.93322  2.86462\n",
       " 2.80853  2.47785  2.55879  2.62986     2.87416  2.54958  2.32678  2.88156"
      ]
     },
     "execution_count": 8,
     "metadata": {},
     "output_type": "execute_result"
    }
   ],
   "source": [
    "A* B"
   ]
  },
  {
   "cell_type": "code",
   "execution_count": 9,
   "id": "c1849a65-b299-4f6c-8422-96b0ba204819",
   "metadata": {},
   "outputs": [
    {
     "name": "stdout",
     "output_type": "stream",
     "text": [
      "  0.000013 seconds (1 allocation: 896 bytes)\n"
     ]
    },
    {
     "data": {
      "text/plain": [
       "10×10 Matrix{Float64}:\n",
       " 2.97518  2.21188  2.69311  2.17493  …  1.9883   2.37681  1.80824  2.58522\n",
       " 2.59403  2.2645   2.80987  2.70368     2.65237  2.93806  2.6263   2.91419\n",
       " 2.04182  2.01472  1.55642  2.18614     2.16883  2.2947   1.98801  2.33983\n",
       " 2.27594  1.9233   2.23725  2.13401     2.03208  2.04767  1.91587  2.40969\n",
       " 3.36876  3.04438  3.52942  3.36366     3.09115  3.48556  2.95203  4.06946\n",
       " 1.52346  1.44197  1.99696  1.81104  …  1.62543  1.53897  2.16086  2.47997\n",
       " 2.65891  2.46371  2.68999  3.53132     2.98765  3.05618  2.61567  3.08493\n",
       " 2.11145  1.9443   1.6168   1.99923     1.71901  1.85658  1.84361  2.36236\n",
       " 2.9245   2.29308  2.53349  2.36759     2.16596  2.41671  1.93322  2.86462\n",
       " 2.80853  2.47785  2.55879  2.62986     2.87416  2.54958  2.32678  2.88156"
      ]
     },
     "execution_count": 9,
     "metadata": {},
     "output_type": "execute_result"
    }
   ],
   "source": [
    "@time A*B"
   ]
  },
  {
   "cell_type": "code",
   "execution_count": 11,
   "id": "7835269b-dacc-4dd2-9dfd-885cfa3dd4a2",
   "metadata": {},
   "outputs": [
    {
     "data": {
      "text/plain": [
       "0.13615384615384615"
      ]
     },
     "execution_count": 11,
     "metadata": {},
     "output_type": "execute_result"
    }
   ],
   "source": [
    "(1.77 /1000000) / 0.000013"
   ]
  },
  {
   "cell_type": "code",
   "execution_count": null,
   "id": "c987011e-db9f-47c6-868a-b1f6bd398361",
   "metadata": {},
   "outputs": [],
   "source": []
  },
  {
   "cell_type": "code",
   "execution_count": null,
   "id": "3748650d-bab2-4b90-b0fc-36e08b29aa91",
   "metadata": {},
   "outputs": [],
   "source": []
  },
  {
   "cell_type": "code",
   "execution_count": null,
   "id": "6a4dffb5-9a11-4c3a-b28b-67a8c95f0a47",
   "metadata": {},
   "outputs": [],
   "source": []
  },
  {
   "cell_type": "code",
   "execution_count": null,
   "id": "fe56aa3a-bc1f-4fa5-8baa-25003ebb43e9",
   "metadata": {},
   "outputs": [],
   "source": []
  },
  {
   "cell_type": "markdown",
   "id": "2e871b25-7163-4e7a-bc2c-8a0eb3d6caae",
   "metadata": {},
   "source": [
    "# Distributed computing in Julia\n",
    "- 김기백 박사 (Argonne National Laboratory)\n",
    "---\n",
    "\n",
    "- 줄리아 `Distributed` 패키지에서 스케줄링도 가능\n",
    "- `MPI` 패키지 + shell 스크립트를 이용하면 `C`만큼의 퍼포먼스가 나옴.\n",
    "- `C`에 비해 Julia의 편의성이 월등하고, 퍼포먼스는 주의 깊은 코딩으로 달성 가능하다.\n",
    "- multiple dispatch를 통해 자료형을 쉽게 변환하고 최적화된 연산을 수행할 수 있다."
   ]
  },
  {
   "cell_type": "markdown",
   "id": "7de70930-cc60-4c6f-9a58-0625b42080d8",
   "metadata": {},
   "source": []
  },
  {
   "cell_type": "markdown",
   "id": "55177f9e-652d-47ae-bd1d-37416e5d40b1",
   "metadata": {},
   "source": [
    "# Julia + Deep Learning\n",
    "- Flux.jl \n",
    "    - 줄리아 100% 연산 라이브러리\n",
    "    - 가볍고 기본에 충실한 딥러닝 프레임워크(Jax와 유사)\n",
    "    - 복잡한 모델이나 다른 기능을 원한다면 Flux.jl 기반 다른 패키지를 사용하거나 직접 작성\n",
    "        - Transformer : Transformers.jl\n",
    "        - Geometric Deep learning : Flux.jl\n",
    "    - Flux.jl을 쓰면 좋은 경우\n",
    "        - 시뮬레이션과 결합한 딥러닝\n",
    "        - 내부 Deep Learning 코드를 건드려야하는 경우\n",
    "          ex - LSTM 수식 자체를 수정해야하는 경우\n",
    "        - Automatic differentiation에 관련된 프로젝트\n",
    "        - 파이썬보다 parallel computing이 더 간단\n",
    "    - Flux.jl을 쓰면 안 좋은 경우\n",
    "        - 일반적인 Deep Learning만 돌리는 경우\n",
    "        - CPU, GPU외에 장비를 사용하는 경우\n",
    "        - 디버깅이 어려움(문서도 아직 갈 길이 멀고, 자잘한 버그도 많음.)"
   ]
  },
  {
   "cell_type": "code",
   "execution_count": 20,
   "id": "6c769df3-2b27-480e-a947-7378a103377b",
   "metadata": {},
   "outputs": [
    {
     "name": "stderr",
     "output_type": "stream",
     "text": [
      "\u001b[32m\u001b[1m    Updating\u001b[22m\u001b[39m registry at `C:\\Users\\griff\\.julia\\registries\\General.toml`\n",
      "\u001b[32m\u001b[1m   Resolving\u001b[22m\u001b[39m package versions...\n",
      "\u001b[32m\u001b[1m   Installed\u001b[22m\u001b[39m ShowCases ─────────────────── v0.1.0\n",
      "\u001b[32m\u001b[1m   Installed\u001b[22m\u001b[39m TimerOutputs ──────────────── v0.5.19\n",
      "\u001b[32m\u001b[1m   Installed\u001b[22m\u001b[39m ContextVariablesX ─────────── v0.1.2\n",
      "\u001b[32m\u001b[1m   Installed\u001b[22m\u001b[39m Optimisers ────────────────── v0.2.5\n",
      "\u001b[32m\u001b[1m   Installed\u001b[22m\u001b[39m InitialValues ─────────────── v0.3.1\n",
      "\u001b[32m\u001b[1m   Installed\u001b[22m\u001b[39m Accessors ─────────────────── v0.1.11\n",
      "\u001b[32m\u001b[1m   Installed\u001b[22m\u001b[39m NNlibCUDA ─────────────────── v0.2.3\n",
      "\u001b[32m\u001b[1m   Installed\u001b[22m\u001b[39m NNlib ─────────────────────── v0.8.5\n",
      "\u001b[32m\u001b[1m   Installed\u001b[22m\u001b[39m FunctionWrappers ──────────── v1.1.2\n",
      "\u001b[32m\u001b[1m   Installed\u001b[22m\u001b[39m CEnum ─────────────────────── v0.4.2\n",
      "\u001b[32m\u001b[1m   Installed\u001b[22m\u001b[39m BFloat16s ─────────────────── v0.2.0\n",
      "\u001b[32m\u001b[1m   Installed\u001b[22m\u001b[39m ZygoteRules ───────────────── v0.2.2\n",
      "\u001b[32m\u001b[1m   Installed\u001b[22m\u001b[39m PrettyPrint ───────────────── v0.2.0\n",
      "\u001b[32m\u001b[1m   Installed\u001b[22m\u001b[39m Static ────────────────────── v0.6.6\n",
      "\u001b[32m\u001b[1m   Installed\u001b[22m\u001b[39m GPUArrays ─────────────────── v8.3.2\n",
      "\u001b[32m\u001b[1m   Installed\u001b[22m\u001b[39m MLUtils ───────────────────── v0.2.5\n",
      "\u001b[32m\u001b[1m   Installed\u001b[22m\u001b[39m RealDot ───────────────────── v0.1.0\n",
      "\u001b[32m\u001b[1m   Installed\u001b[22m\u001b[39m RandomNumbers ─────────────── v1.5.3\n",
      "\u001b[32m\u001b[1m   Installed\u001b[22m\u001b[39m FLoopsBase ────────────────── v0.1.1\n",
      "\u001b[32m\u001b[1m   Installed\u001b[22m\u001b[39m IRTools ───────────────────── v0.4.6\n",
      "\u001b[32m\u001b[1m   Installed\u001b[22m\u001b[39m Functors ──────────────────── v0.2.8\n",
      "\u001b[32m\u001b[1m   Installed\u001b[22m\u001b[39m ProgressLogging ───────────── v0.1.4\n",
      "\u001b[32m\u001b[1m   Installed\u001b[22m\u001b[39m IfElse ────────────────────── v0.1.1\n",
      "\u001b[32m\u001b[1m   Installed\u001b[22m\u001b[39m LLVM ──────────────────────── v4.13.0\n",
      "\u001b[32m\u001b[1m   Installed\u001b[22m\u001b[39m ArrayInterfaceCore ────────── v0.1.7\n",
      "\u001b[32m\u001b[1m   Installed\u001b[22m\u001b[39m DefineSingletons ──────────── v0.1.2\n",
      "\u001b[32m\u001b[1m   Installed\u001b[22m\u001b[39m MicroCollections ──────────── v0.1.2\n",
      "\u001b[32m\u001b[1m   Installed\u001b[22m\u001b[39m NameResolution ────────────── v0.1.5\n",
      "\u001b[32m\u001b[1m   Installed\u001b[22m\u001b[39m Random123 ─────────────────── v1.5.0\n",
      "\u001b[32m\u001b[1m   Installed\u001b[22m\u001b[39m Zygote ────────────────────── v0.6.40\n",
      "\u001b[32m\u001b[1m   Installed\u001b[22m\u001b[39m ExprTools ─────────────────── v0.1.8\n",
      "\u001b[32m\u001b[1m   Installed\u001b[22m\u001b[39m ArgCheck ──────────────────── v2.3.0\n",
      "\u001b[32m\u001b[1m   Installed\u001b[22m\u001b[39m TableTraits ───────────────── v1.0.1\n",
      "\u001b[32m\u001b[1m   Installed\u001b[22m\u001b[39m ChainRules ────────────────── v1.35.1\n",
      "\u001b[32m\u001b[1m   Installed\u001b[22m\u001b[39m BangBang ──────────────────── v0.3.36\n",
      "\u001b[32m\u001b[1m   Installed\u001b[22m\u001b[39m FLoops ────────────────────── v0.2.0\n",
      "\u001b[32m\u001b[1m   Installed\u001b[22m\u001b[39m MLStyle ───────────────────── v0.4.12\n",
      "\u001b[32m\u001b[1m   Installed\u001b[22m\u001b[39m Flux ──────────────────────── v0.13.3\n",
      "\u001b[32m\u001b[1m   Installed\u001b[22m\u001b[39m Setfield ──────────────────── v0.8.2\n",
      "\u001b[32m\u001b[1m   Installed\u001b[22m\u001b[39m AbstractFFTs ──────────────── v1.1.0\n",
      "\u001b[32m\u001b[1m   Installed\u001b[22m\u001b[39m ConstructionBase ──────────── v1.3.0\n",
      "\u001b[32m\u001b[1m   Installed\u001b[22m\u001b[39m DataValueInterfaces ───────── v1.0.0\n",
      "\u001b[32m\u001b[1m   Installed\u001b[22m\u001b[39m LLVMExtra_jll ─────────────── v0.0.16+0\n",
      "\u001b[32m\u001b[1m   Installed\u001b[22m\u001b[39m CompositionsBase ──────────── v0.1.1\n",
      "\u001b[32m\u001b[1m   Installed\u001b[22m\u001b[39m Adapt ─────────────────────── v3.3.3\n",
      "\u001b[32m\u001b[1m   Installed\u001b[22m\u001b[39m JuliaVariables ────────────── v0.2.4\n",
      "\u001b[32m\u001b[1m   Installed\u001b[22m\u001b[39m GPUCompiler ───────────────── v0.15.2\n",
      "\u001b[32m\u001b[1m   Installed\u001b[22m\u001b[39m Tables ────────────────────── v1.7.0\n",
      "\u001b[32m\u001b[1m   Installed\u001b[22m\u001b[39m FoldsThreads ──────────────── v0.1.1\n",
      "\u001b[32m\u001b[1m   Installed\u001b[22m\u001b[39m Baselet ───────────────────── v0.1.1\n",
      "\u001b[32m\u001b[1m   Installed\u001b[22m\u001b[39m Transducers ───────────────── v0.4.73\n",
      "\u001b[32m\u001b[1m   Installed\u001b[22m\u001b[39m IteratorInterfaceExtensions ─ v1.0.0\n",
      "\u001b[32m\u001b[1m   Installed\u001b[22m\u001b[39m SplittablesBase ───────────── v0.1.14\n",
      "\u001b[32m\u001b[1m   Installed\u001b[22m\u001b[39m ArrayInterface ────────────── v6.0.8\n",
      "\u001b[32m\u001b[1m   Installed\u001b[22m\u001b[39m CUDA ──────────────────────── v3.10.1\n",
      "\u001b[32m\u001b[1m    Updating\u001b[22m\u001b[39m `C:\\Users\\griff\\.julia\\environments\\v1.7\\Project.toml`\n",
      " \u001b[90m [587475ba] \u001b[39m\u001b[92m+ Flux v0.13.3\u001b[39m\n",
      "\u001b[32m\u001b[1m    Updating\u001b[22m\u001b[39m `C:\\Users\\griff\\.julia\\environments\\v1.7\\Manifest.toml`\n",
      " \u001b[90m [621f4979] \u001b[39m\u001b[92m+ AbstractFFTs v1.1.0\u001b[39m\n",
      " \u001b[90m [7d9f7c33] \u001b[39m\u001b[92m+ Accessors v0.1.11\u001b[39m\n",
      " \u001b[90m [79e6a3ab] \u001b[39m\u001b[92m+ Adapt v3.3.3\u001b[39m\n",
      " \u001b[90m [dce04be8] \u001b[39m\u001b[92m+ ArgCheck v2.3.0\u001b[39m\n",
      " \u001b[90m [4fba245c] \u001b[39m\u001b[92m+ ArrayInterface v6.0.8\u001b[39m\n",
      " \u001b[90m [30b0a656] \u001b[39m\u001b[92m+ ArrayInterfaceCore v0.1.7\u001b[39m\n",
      " \u001b[90m [ab4f0b2a] \u001b[39m\u001b[92m+ BFloat16s v0.2.0\u001b[39m\n",
      " \u001b[90m [198e06fe] \u001b[39m\u001b[92m+ BangBang v0.3.36\u001b[39m\n",
      " \u001b[90m [9718e550] \u001b[39m\u001b[92m+ Baselet v0.1.1\u001b[39m\n",
      " \u001b[90m [fa961155] \u001b[39m\u001b[92m+ CEnum v0.4.2\u001b[39m\n",
      " \u001b[90m [052768ef] \u001b[39m\u001b[92m+ CUDA v3.10.1\u001b[39m\n",
      " \u001b[90m [082447d4] \u001b[39m\u001b[92m+ ChainRules v1.35.1\u001b[39m\n",
      " \u001b[90m [a33af91c] \u001b[39m\u001b[92m+ CompositionsBase v0.1.1\u001b[39m\n",
      " \u001b[90m [187b0558] \u001b[39m\u001b[92m+ ConstructionBase v1.3.0\u001b[39m\n",
      " \u001b[90m [6add18c4] \u001b[39m\u001b[92m+ ContextVariablesX v0.1.2\u001b[39m\n",
      " \u001b[90m [e2d170a0] \u001b[39m\u001b[92m+ DataValueInterfaces v1.0.0\u001b[39m\n",
      " \u001b[90m [244e2a9f] \u001b[39m\u001b[92m+ DefineSingletons v0.1.2\u001b[39m\n",
      " \u001b[90m [e2ba6199] \u001b[39m\u001b[92m+ ExprTools v0.1.8\u001b[39m\n",
      " \u001b[90m [cc61a311] \u001b[39m\u001b[92m+ FLoops v0.2.0\u001b[39m\n",
      " \u001b[90m [b9860ae5] \u001b[39m\u001b[92m+ FLoopsBase v0.1.1\u001b[39m\n",
      " \u001b[90m [587475ba] \u001b[39m\u001b[92m+ Flux v0.13.3\u001b[39m\n",
      " \u001b[90m [9c68100b] \u001b[39m\u001b[92m+ FoldsThreads v0.1.1\u001b[39m\n",
      " \u001b[90m [069b7b12] \u001b[39m\u001b[92m+ FunctionWrappers v1.1.2\u001b[39m\n",
      " \u001b[90m [d9f16b24] \u001b[39m\u001b[92m+ Functors v0.2.8\u001b[39m\n",
      " \u001b[90m [0c68f7d7] \u001b[39m\u001b[92m+ GPUArrays v8.3.2\u001b[39m\n",
      " \u001b[90m [61eb1bfa] \u001b[39m\u001b[92m+ GPUCompiler v0.15.2\u001b[39m\n",
      " \u001b[90m [7869d1d1] \u001b[39m\u001b[92m+ IRTools v0.4.6\u001b[39m\n",
      " \u001b[90m [615f187c] \u001b[39m\u001b[92m+ IfElse v0.1.1\u001b[39m\n",
      " \u001b[90m [22cec73e] \u001b[39m\u001b[92m+ InitialValues v0.3.1\u001b[39m\n",
      " \u001b[90m [82899510] \u001b[39m\u001b[92m+ IteratorInterfaceExtensions v1.0.0\u001b[39m\n",
      " \u001b[90m [b14d175d] \u001b[39m\u001b[92m+ JuliaVariables v0.2.4\u001b[39m\n",
      " \u001b[90m [929cbde3] \u001b[39m\u001b[92m+ LLVM v4.13.0\u001b[39m\n",
      " \u001b[90m [d8e11817] \u001b[39m\u001b[92m+ MLStyle v0.4.12\u001b[39m\n",
      " \u001b[90m [f1d291b0] \u001b[39m\u001b[92m+ MLUtils v0.2.5\u001b[39m\n",
      " \u001b[90m [128add7d] \u001b[39m\u001b[92m+ MicroCollections v0.1.2\u001b[39m\n",
      " \u001b[90m [872c559c] \u001b[39m\u001b[92m+ NNlib v0.8.5\u001b[39m\n",
      " \u001b[90m [a00861dc] \u001b[39m\u001b[92m+ NNlibCUDA v0.2.3\u001b[39m\n",
      " \u001b[90m [71a1bf82] \u001b[39m\u001b[92m+ NameResolution v0.1.5\u001b[39m\n",
      " \u001b[90m [3bd65402] \u001b[39m\u001b[92m+ Optimisers v0.2.5\u001b[39m\n",
      " \u001b[90m [8162dcfd] \u001b[39m\u001b[92m+ PrettyPrint v0.2.0\u001b[39m\n",
      " \u001b[90m [33c8b6b6] \u001b[39m\u001b[92m+ ProgressLogging v0.1.4\u001b[39m\n",
      " \u001b[90m [74087812] \u001b[39m\u001b[92m+ Random123 v1.5.0\u001b[39m\n",
      " \u001b[90m [e6cf234a] \u001b[39m\u001b[92m+ RandomNumbers v1.5.3\u001b[39m\n",
      " \u001b[90m [c1ae055f] \u001b[39m\u001b[92m+ RealDot v0.1.0\u001b[39m\n",
      " \u001b[90m [efcf1570] \u001b[39m\u001b[92m+ Setfield v0.8.2\u001b[39m\n",
      " \u001b[90m [605ecd9f] \u001b[39m\u001b[92m+ ShowCases v0.1.0\u001b[39m\n",
      " \u001b[90m [171d559e] \u001b[39m\u001b[92m+ SplittablesBase v0.1.14\u001b[39m\n",
      " \u001b[90m [aedffcd0] \u001b[39m\u001b[92m+ Static v0.6.6\u001b[39m\n",
      " \u001b[90m [3783bdb8] \u001b[39m\u001b[92m+ TableTraits v1.0.1\u001b[39m\n",
      " \u001b[90m [bd369af6] \u001b[39m\u001b[92m+ Tables v1.7.0\u001b[39m\n",
      " \u001b[90m [a759f4b9] \u001b[39m\u001b[92m+ TimerOutputs v0.5.19\u001b[39m\n",
      " \u001b[90m [28d57a85] \u001b[39m\u001b[92m+ Transducers v0.4.73\u001b[39m\n",
      " \u001b[90m [e88e6eb3] \u001b[39m\u001b[92m+ Zygote v0.6.40\u001b[39m\n",
      " \u001b[90m [700de1a5] \u001b[39m\u001b[92m+ ZygoteRules v0.2.2\u001b[39m\n",
      " \u001b[90m [dad2f222] \u001b[39m\u001b[92m+ LLVMExtra_jll v0.0.16+0\u001b[39m\n",
      " \u001b[90m [9fa8497b] \u001b[39m\u001b[92m+ Future\u001b[39m\n",
      " \u001b[90m [4af54fe1] \u001b[39m\u001b[92m+ LazyArtifacts\u001b[39m\n",
      "\u001b[32m\u001b[1mPrecompiling\u001b[22m\u001b[39m project...\n",
      "\u001b[32m  ✓ \u001b[39m\u001b[90mDataValueInterfaces\u001b[39m\n",
      "\u001b[32m  ✓ \u001b[39m\u001b[90mDefineSingletons\u001b[39m\n",
      "\u001b[32m  ✓ \u001b[39m\u001b[90mRealDot\u001b[39m\n",
      "\u001b[32m  ✓ \u001b[39m\u001b[90mContextVariablesX\u001b[39m\n",
      "\u001b[32m  ✓ \u001b[39m\u001b[90mIfElse\u001b[39m\n",
      "\u001b[32m  ✓ \u001b[39m\u001b[90mFunctionWrappers\u001b[39m\n",
      "\u001b[32m  ✓ \u001b[39m\u001b[90mExprTools\u001b[39m\n",
      "\u001b[32m  ✓ \u001b[39m\u001b[90mIteratorInterfaceExtensions\u001b[39m\n",
      "\u001b[32m  ✓ \u001b[39m\u001b[90mPrettyPrint\u001b[39m\n",
      "\u001b[32m  ✓ \u001b[39m\u001b[90mAdapt\u001b[39m\n",
      "\u001b[32m  ✓ \u001b[39m\u001b[90mConstructionBase\u001b[39m\n",
      "\u001b[32m  ✓ \u001b[39m\u001b[90mArgCheck\u001b[39m\n",
      "\u001b[32m  ✓ \u001b[39m\u001b[90mShowCases\u001b[39m\n",
      "\u001b[32m  ✓ \u001b[39m\u001b[90mBFloat16s\u001b[39m\n",
      "\u001b[32m  ✓ \u001b[39m\u001b[90mProgressLogging\u001b[39m\n",
      "\u001b[32m  ✓ \u001b[39m\u001b[90mCompositionsBase\u001b[39m\n",
      "\u001b[32m  ✓ \u001b[39m\u001b[90mArrayInterfaceCore\u001b[39m\n",
      "\u001b[32m  ✓ \u001b[39m\u001b[90mCEnum\u001b[39m\n",
      "\u001b[32m  ✓ \u001b[39m\u001b[90mInitialValues\u001b[39m\n",
      "\u001b[32m  ✓ \u001b[39m\u001b[90mFunctors\u001b[39m\n",
      "\u001b[32m  ✓ \u001b[39m\u001b[90mRandomNumbers\u001b[39m\n",
      "\u001b[32m  ✓ \u001b[39m\u001b[90mBaselet\u001b[39m\n",
      "\u001b[32m  ✓ \u001b[39m\u001b[90mAbstractFFTs\u001b[39m\n",
      "\u001b[32m  ✓ \u001b[39m\u001b[90mZygoteRules\u001b[39m\n",
      "\u001b[32m  ✓ \u001b[39m\u001b[90mFLoopsBase\u001b[39m\n",
      "\u001b[32m  ✓ \u001b[39m\u001b[90mIRTools\u001b[39m\n",
      "\u001b[32m  ✓ \u001b[39m\u001b[90mLLVMExtra_jll\u001b[39m\n",
      "\u001b[32m  ✓ \u001b[39m\u001b[90mStatic\u001b[39m\n",
      "\u001b[32m  ✓ \u001b[39m\u001b[90mTableTraits\u001b[39m\n",
      "\u001b[32m  ✓ \u001b[39m\u001b[90mNameResolution\u001b[39m\n",
      "\u001b[32m  ✓ \u001b[39m\u001b[90mTimerOutputs\u001b[39m\n",
      "\u001b[32m  ✓ \u001b[39m\u001b[90mSetfield\u001b[39m\n",
      "\u001b[32m  ✓ \u001b[39m\u001b[90mAccessors\u001b[39m\n",
      "\u001b[32m  ✓ \u001b[39m\u001b[90mOptimisers\u001b[39m\n",
      "\u001b[32m  ✓ \u001b[39m\u001b[90mRandom123\u001b[39m\n",
      "\u001b[32m  ✓ \u001b[39m\u001b[90mNNlib\u001b[39m\n",
      "\u001b[32m  ✓ \u001b[39m\u001b[90mArrayInterface\u001b[39m\n",
      "\u001b[32m  ✓ \u001b[39m\u001b[90mChainRules\u001b[39m\n",
      "\u001b[32m  ✓ \u001b[39m\u001b[90mTables\u001b[39m\n",
      "\u001b[32m  ✓ \u001b[39m\u001b[90mSplittablesBase\u001b[39m\n",
      "\u001b[32m  ✓ \u001b[39m\u001b[90mMLStyle\u001b[39m\n",
      "\u001b[32m  ✓ \u001b[39m\u001b[90mBangBang\u001b[39m\n",
      "\u001b[32m  ✓ \u001b[39m\u001b[90mMicroCollections\u001b[39m\n",
      "\u001b[32m  ✓ \u001b[39m\u001b[90mLLVM\u001b[39m\n",
      "\u001b[32m  ✓ \u001b[39m\u001b[90mGPUArrays\u001b[39m\n",
      "\u001b[32m  ✓ \u001b[39m\u001b[90mTransducers\u001b[39m\n",
      "\u001b[32m  ✓ \u001b[39m\u001b[90mJuliaVariables\u001b[39m\n",
      "\u001b[32m  ✓ \u001b[39m\u001b[90mFoldsThreads\u001b[39m\n",
      "\u001b[32m  ✓ \u001b[39m\u001b[90mGPUCompiler\u001b[39m\n",
      "\u001b[32m  ✓ \u001b[39m\u001b[90mZygote\u001b[39m\n",
      "\u001b[32m  ✓ \u001b[39m\u001b[90mFLoops\u001b[39m\n",
      "\u001b[32m  ✓ \u001b[39m\u001b[90mMLUtils\u001b[39m\n",
      "\u001b[32m  ✓ \u001b[39m\u001b[90mCUDA\u001b[39m\n",
      "\u001b[32m  ✓ \u001b[39m\u001b[90mNNlibCUDA\u001b[39m\n",
      "\u001b[32m  ✓ \u001b[39mFlux\n",
      "  55 dependencies successfully precompiled in 94 seconds (95 already precompiled)\n"
     ]
    }
   ],
   "source": [
    "## Basic Neural Network\n",
    "using Pkg\n",
    "\n",
    "Pkg.add(\"Flux\")"
   ]
  },
  {
   "cell_type": "code",
   "execution_count": 23,
   "id": "57d06399-1f6b-40a2-a69c-6f8a33efb27e",
   "metadata": {},
   "outputs": [
    {
     "data": {
      "text/plain": [
       "2-element Vector{Float64}:\n",
       " 0.6725596559154254\n",
       " 0.054278036969830135"
      ]
     },
     "execution_count": 23,
     "metadata": {},
     "output_type": "execute_result"
    }
   ],
   "source": [
    "## Basic NN\n",
    "using Flux\n",
    "\n",
    "NN1 = Chain(Dense(10, 5, tanh),\n",
    "    Dense(5,5, tanh),\n",
    "    Dense(5,2))\n",
    "\n",
    "NN1(rand(10))"
   ]
  },
  {
   "cell_type": "code",
   "execution_count": 22,
   "id": "5fdd1ffd-6639-44b2-8082-cbc9f8d1a0e0",
   "metadata": {},
   "outputs": [
    {
     "data": {
      "text/plain": [
       "2-element Vector{Float64}:\n",
       " -0.5191125797223114\n",
       " -0.5074729726526535"
      ]
     },
     "execution_count": 22,
     "metadata": {},
     "output_type": "execute_result"
    }
   ],
   "source": [
    "## Custom Activation Function\n",
    "\n",
    "NN2 = Chain(Dense(10, 5, x -> x^2),\n",
    "    Dense(5,5, relu),\n",
    "    Dense(5, 2))\n",
    "\n",
    "NN2(rand(10))"
   ]
  },
  {
   "cell_type": "markdown",
   "id": "8ec5708e-3125-45ff-a083-f2c73db9e65e",
   "metadata": {},
   "source": [
    "#### pytorch에서 이를 구현하려면 좀 더 복잡\n",
    "\n",
    "import torch\n",
    "from torch import nn\n",
    "\n",
    "model1 = nn.Sequential(\n",
    "    nn.Linear(10, 5),\n",
    "    nn.Tanh(),\n",
    "    nn.Linear(5,5),\n",
    "    nn.Tanh(),\n",
    "    nn.Linear(5,2)\n",
    ")\n",
    "\n",
    "#### model2는 확인 필요"
   ]
  },
  {
   "cell_type": "markdown",
   "id": "6e62c957-b834-4dd0-9b8a-f386e3e9a508",
   "metadata": {},
   "source": [
    "## Train Neural Network\n",
    "- 모델 training을 위한 기본 요소\n",
    "    - Objective function\n",
    "    - parameters of the model.\n",
    "    - data\n",
    "    - optimaizaer\n",
    "- train!(loss, params, data, opt; cb)"
   ]
  },
  {
   "cell_type": "code",
   "execution_count": null,
   "id": "a424e70c-7077-4eb1-b812-68c4fa0e1ed4",
   "metadata": {},
   "outputs": [],
   "source": [
    "- Loss (MSE)\n",
    "    - loss(x, y) = Flux.Losses.mse(NN1(x), y)\n",
    "- Parameters\n",
    "    - ps = Flux.params(NN1)\n",
    "- Optimisers\n",
    "    - opt = Flux.Descent()\n",
    "- Data\n",
    "    - Julia는 Column-major\n",
    "    - Shuffling, mini-batch iteration 기능을 지니는 DataLoader 사용 가능\n",
    "\n",
    "- Training\n",
    "    for epoch_idx in 1:epoch_size\n",
    "        Flux.train!(loss, ps, trian_data, opt)\n",
    "        println(sum(loss.(test_x, test_y)))\n",
    "    end"
   ]
  },
  {
   "cell_type": "markdown",
   "id": "34e96ce1-7905-41fa-9413-908d7cc7dff9",
   "metadata": {},
   "source": [
    "## Train wiht GPU\n",
    "- Array를 GPU로 변환\n",
    "- Flux model도 GPU로 변환 가능\n",
    "    - RNN의 경우 순차적으로 돌아야 되기 때문에 for 구문을 써야함.\n",
    "    - 각 배치에 대해 broadcasting을 활용해서 쉽게 적용 가능."
   ]
  },
  {
   "cell_type": "code",
   "execution_count": null,
   "id": "5d6904bf-2aad-461f-a30a-0a1ac63d09e4",
   "metadata": {},
   "outputs": [],
   "source": []
  },
  {
   "cell_type": "code",
   "execution_count": null,
   "id": "1e0ad305-de55-42f1-92b1-d2270e37fe60",
   "metadata": {},
   "outputs": [],
   "source": []
  },
  {
   "cell_type": "code",
   "execution_count": null,
   "id": "e21158fa-35a1-48fc-91b9-ed810c4c6865",
   "metadata": {},
   "outputs": [],
   "source": []
  },
  {
   "cell_type": "code",
   "execution_count": null,
   "id": "2e9ef61c-8ef9-4e22-a4d4-16bda9219c02",
   "metadata": {},
   "outputs": [],
   "source": []
  },
  {
   "cell_type": "markdown",
   "id": "de6a9fe2-2062-4e85-88f2-bc3d66ff42e5",
   "metadata": {},
   "source": [
    "# 줄리아를 통한 미분방정식\n",
    "- 김현 박사"
   ]
  },
  {
   "cell_type": "markdown",
   "id": "7159b9a7-45fe-49b3-b953-be70a783ed3f",
   "metadata": {},
   "source": [
    "- 파이썬 패키지도 줄리아에서 사용 가능"
   ]
  },
  {
   "cell_type": "markdown",
   "id": "b5867f78-9ec9-4b9c-8310-ca189820f917",
   "metadata": {},
   "source": [
    "# Julia 적합/비적합 분야 (개인 의견)\n",
    "\n",
    "## 적합:\n",
    "\n",
    "- 이모티콘으로 코딩하고 싶다: Julia!\n",
    "- Array 만들고 for-loop 많이 돌린다: Julia 강추\n",
    "- MATLAB 쓰는데 Simulink는 안 쓴다: Julia 강추\n",
    "- FORTRAN 쓰는데 내 컴퓨터에서만 돌린다: Julia 강추\n",
    "- Optimization 문제 푼다: Julia 강추 / JuMP.jl\n",
    "- Differential Equations 푼다: Julia 강추 / DifferentialEquations.jl\n",
    "\n",
    "## 비적합:\n",
    "\n",
    "- 일반적인 데이터 분석 하는데 주로 Python, R을 쓴다: 굳이?\n",
    "- 자체 algorithm 개발은 하는 일이 없고, 주로 library만 쓰는 경우\n",
    "- PyTorch, TensorFlow 주로 쓴다: 굳이?\n",
    "- 강화학습을 이용할 때 CPU에서 시간이 오래 걸리는 simulation 연산을 Julia로 해서 연동하는 것은 추천\n",
    "- 일반적인 GPU 연산은 또 다른 이야기: Flux.jl, CUDA.jl, ...\n",
    "- Production level에서 속도가 0.1초라도 빨라야 한다: C/C++, FORTRAN, ..."
   ]
  },
  {
   "cell_type": "code",
   "execution_count": null,
   "id": "baf275c2-bb7a-4e28-aafd-f36c45b675cd",
   "metadata": {},
   "outputs": [],
   "source": []
  }
 ],
 "metadata": {
  "kernelspec": {
   "display_name": "Julia 1.7.2",
   "language": "julia",
   "name": "julia-1.7"
  },
  "language_info": {
   "file_extension": ".jl",
   "mimetype": "application/julia",
   "name": "julia",
   "version": "1.7.2"
  }
 },
 "nbformat": 4,
 "nbformat_minor": 5
}
